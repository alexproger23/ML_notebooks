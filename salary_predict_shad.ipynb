{
  "cells": [
    {
      "cell_type": "markdown",
      "source": [
        "# Predict salary for CV"
      ],
      "metadata": {
        "id": "il-seKQIRyMF"
      }
    },
    {
      "cell_type": "code",
      "execution_count": null,
      "metadata": {
        "id": "uLjuPNfxvkxC"
      },
      "outputs": [],
      "source": [
        "import numpy as np\n",
        "import pandas as pd\n",
        "import matplotlib.pyplot as plt\n",
        "%matplotlib inline"
      ]
    },
    {
      "cell_type": "markdown",
      "metadata": {
        "id": "bHu5_GYEvkxH"
      },
      "source": [
        "### About the challenge\n",
        "For starters, let's download and unpack the data from [here](https://www.dropbox.com/s/5msc5ix7ndyba10/Train_rev1.csv.tar.gz?dl=0).\n",
        "\n",
        "You can also get it from [yadisk url](https://yadi.sk/d/vVEOWPFY3NruT7) the competition [page](https://www.kaggle.com/c/job-salary-prediction/data) (pick `Train_rev1.*`)."
      ]
    },
    {
      "cell_type": "code",
      "execution_count": null,
      "metadata": {
        "id": "AY-RbNZlvkxJ",
        "outputId": "32d86f48-51b6-4ba8-98ef-39240bced8b6",
        "colab": {
          "base_uri": "https://localhost:8080/"
        }
      },
      "outputs": [
        {
          "output_type": "stream",
          "name": "stdout",
          "text": [
            "  % Total    % Received % Xferd  Average Speed   Time    Time     Time  Current\n",
            "                                 Dload  Upload   Total   Spent    Left  Speed\n",
            "100   138  100   138    0     0    287      0 --:--:-- --:--:-- --:--:--   288\n",
            "100    17  100    17    0     0     18      0 --:--:-- --:--:-- --:--:--     0\n",
            "100   475    0   475    0     0    247      0 --:--:--  0:00:01 --:--:--     0\n",
            "100  119M  100  119M    0     0  22.0M      0  0:00:05  0:00:05 --:--:-- 46.8M\n",
            "Train_rev1.csv\n"
          ]
        },
        {
          "output_type": "execute_result",
          "data": {
            "text/plain": [
              "(244768, 12)"
            ]
          },
          "metadata": {},
          "execution_count": 2
        }
      ],
      "source": [
        "!curl -L https://www.dropbox.com/s/5msc5ix7ndyba10/Train_rev1.csv.tar.gz?dl=1 -o Train_rev1.csv.tar.gz\n",
        "!tar -xvzf ./Train_rev1.csv.tar.gz\n",
        "data = pd.read_csv(\"./Train_rev1.csv\", index_col=None)\n",
        "data.shape"
      ]
    },
    {
      "cell_type": "markdown",
      "metadata": {
        "id": "vY4xVCVKvkxL"
      },
      "source": [
        "One problem with salary prediction is that it's oddly distributed: there are many people who are paid standard salaries and a few that get tons o money. The distribution is fat-tailed on the right side, which is inconvenient for MSE minimization.\n",
        "\n",
        "There are several techniques to combat this: using a different loss function, predicting log-target instead of raw target or even replacing targets with their percentiles among all salaries in the training set. We gonna use logarithm for now.\n",
        "\n",
        "_You can read more [in the official description](https://www.kaggle.com/c/job-salary-prediction#description)._"
      ]
    },
    {
      "cell_type": "code",
      "execution_count": null,
      "metadata": {
        "id": "R2xxZf8qvkxM",
        "outputId": "b0f15698-872c-4ac9-dbf4-691c90a449ba",
        "colab": {
          "base_uri": "https://localhost:8080/",
          "height": 368
        }
      },
      "outputs": [
        {
          "output_type": "display_data",
          "data": {
            "text/plain": [
              "<Figure size 800x400 with 2 Axes>"
            ],
            "image/png": "[encoded data removed]"
          },
          "metadata": {}
        }
      ],
      "source": [
        "data['Log1pSalary'] = np.log1p(data['SalaryNormalized']).astype('float32')\n",
        "\n",
        "plt.figure(figsize=[8, 4])\n",
        "plt.subplot(1, 2, 1)\n",
        "plt.hist(data[\"SalaryNormalized\"], bins=20);\n",
        "\n",
        "plt.subplot(1, 2, 2)\n",
        "plt.hist(data['Log1pSalary'], bins=20);"
      ]
    },
    {
      "cell_type": "markdown",
      "metadata": {
        "id": "szGxyDnFvkxP"
      },
      "source": [
        "Our task is to predict one number, __Log1pSalary__.\n",
        "\n",
        "To do so, our model can access a number of features:\n",
        "* Free text: __`Title`__ and  __`FullDescription`__\n",
        "* Categorical: __`Category`__, __`Company`__, __`LocationNormalized`__, __`ContractType`__, and __`ContractTime`__."
      ]
    },
    {
      "cell_type": "code",
      "execution_count": null,
      "metadata": {
        "id": "JkydYmgvvkxQ",
        "outputId": "4215a4bc-c100-4aaa-a4b5-98ea6b319bcb",
        "colab": {
          "base_uri": "https://localhost:8080/",
          "height": 319
        }
      },
      "outputs": [
        {
          "output_type": "execute_result",
          "data": {
            "text/plain": [
              "              Id                                              Title  \\\n",
              "68633   68798488                   Fife Bus Driver Jobs In Scotland   \n",
              "226050  72440781  INFRASTRUCTURE SUPPORT – STORAGE  OPERATIONS –...   \n",
              "239756  72629887                Business Analyst  Digital Programme   \n",
              "\n",
              "                                          FullDescription  \\\n",
              "68633   Work Location: FFRS HQ, Strathore Rd, Thornton...   \n",
              "226050  INFRASTRUCTURE SUPPORT – NETWORKING  STORAGE  ...   \n",
              "239756  Contract Business Analyst  Digital Programme O...   \n",
              "\n",
              "                                        LocationRaw LocationNormalized  \\\n",
              "68633                                          Fife               Fife   \n",
              "226050  Farnborough, Hampshire Hampshire South East        Farnborough   \n",
              "239756                                    UK Havant             Havant   \n",
              "\n",
              "       ContractType ContractTime       Company                    Category  \\\n",
              "68633           NaN     contract  Fife Council  Logistics & Warehouse Jobs   \n",
              "226050          NaN    permanent   PeopleWorks          Other/General Jobs   \n",
              "239756          NaN     contract  Preferred IT                     IT Jobs   \n",
              "\n",
              "                                                SalaryRaw  SalaryNormalized  \\\n",
              "68633                                 Up to 16,087 Annual             16086   \n",
              "226050  From 50,000 to 50,000 per annum + Bonus + Shar...             50000   \n",
              "239756                                  320 - 383 per day             84360   \n",
              "\n",
              "                SourceName  Log1pSalary  \n",
              "68633   jobsinscotland.com     9.685767  \n",
              "226050       totaljobs.com    10.819798  \n",
              "239756       careers4a.com    11.342860  "
            ],
            "text/html": [
              "\n",
              "  <div id=\"df-1d268965-ed46-4ca7-ba5d-9fd53f45cb45\" class=\"colab-df-container\">\n",
              "    <div>\n",
              "<style scoped>\n",
              "    .dataframe tbody tr th:only-of-type {\n",
              "        vertical-align: middle;\n",
              "    }\n",
              "\n",
              "    .dataframe tbody tr th {\n",
              "        vertical-align: top;\n",
              "    }\n",
              "\n",
              "    .dataframe thead th {\n",
              "        text-align: right;\n",
              "    }\n",
              "</style>\n",
              "<table border=\"1\" class=\"dataframe\">\n",
              "  <thead>\n",
              "    <tr style=\"text-align: right;\">\n",
              "      <th></th>\n",
              "      <th>Id</th>\n",
              "      <th>Title</th>\n",
              "      <th>FullDescription</th>\n",
              "      <th>LocationRaw</th>\n",
              "      <th>LocationNormalized</th>\n",
              "      <th>ContractType</th>\n",
              "      <th>ContractTime</th>\n",
              "      <th>Company</th>\n",
              "      <th>Category</th>\n",
              "      <th>SalaryRaw</th>\n",
              "      <th>SalaryNormalized</th>\n",
              "      <th>SourceName</th>\n",
              "      <th>Log1pSalary</th>\n",
              "    </tr>\n",
              "  </thead>\n",
              "  <tbody>\n",
              "    <tr>\n",
              "      <th>68633</th>\n",
              "      <td>68798488</td>\n",
              "      <td>Fife Bus Driver Jobs In Scotland</td>\n",
              "      <td>Work Location: FFRS HQ, Strathore Rd, Thornton...</td>\n",
              "      <td>Fife</td>\n",
              "      <td>Fife</td>\n",
              "      <td>NaN</td>\n",
              "      <td>contract</td>\n",
              "      <td>Fife Council</td>\n",
              "      <td>Logistics &amp; Warehouse Jobs</td>\n",
              "      <td>Up to 16,087 Annual</td>\n",
              "      <td>16086</td>\n",
              "      <td>jobsinscotland.com</td>\n",
              "      <td>9.685767</td>\n",
              "    </tr>\n",
              "    <tr>\n",
              "      <th>226050</th>\n",
              "      <td>72440781</td>\n",
              "      <td>INFRASTRUCTURE SUPPORT – STORAGE  OPERATIONS –...</td>\n",
              "      <td>INFRASTRUCTURE SUPPORT – NETWORKING  STORAGE  ...</td>\n",
              "      <td>Farnborough, Hampshire Hampshire South East</td>\n",
              "      <td>Farnborough</td>\n",
              "      <td>NaN</td>\n",
              "      <td>permanent</td>\n",
              "      <td>PeopleWorks</td>\n",
              "      <td>Other/General Jobs</td>\n",
              "      <td>From 50,000 to 50,000 per annum + Bonus + Shar...</td>\n",
              "      <td>50000</td>\n",
              "      <td>totaljobs.com</td>\n",
              "      <td>10.819798</td>\n",
              "    </tr>\n",
              "    <tr>\n",
              "      <th>239756</th>\n",
              "      <td>72629887</td>\n",
              "      <td>Business Analyst  Digital Programme</td>\n",
              "      <td>Contract Business Analyst  Digital Programme O...</td>\n",
              "      <td>UK Havant</td>\n",
              "      <td>Havant</td>\n",
              "      <td>NaN</td>\n",
              "      <td>contract</td>\n",
              "      <td>Preferred IT</td>\n",
              "      <td>IT Jobs</td>\n",
              "      <td>320 - 383 per day</td>\n",
              "      <td>84360</td>\n",
              "      <td>careers4a.com</td>\n",
              "      <td>11.342860</td>\n",
              "    </tr>\n",
              "  </tbody>\n",
              "</table>\n",
              "</div>\n",
              "    <div class=\"colab-df-buttons\">\n",
              "\n",
              "  <div class=\"colab-df-container\">\n",
              "    <button class=\"colab-df-convert\" onclick=\"convertToInteractive('df-1d268965-ed46-4ca7-ba5d-9fd53f45cb45')\"\n",
              "            title=\"Convert this dataframe to an interactive table.\"\n",
              "            style=\"display:none;\">\n",
              "\n",
              "  <svg xmlns=\"http://www.w3.org/2000/svg\" height=\"24px\" viewBox=\"0 -960 960 960\">\n",
              "    <path d=\"M120-120v-720h720v720H120Zm60-500h600v-160H180v160Zm220 220h160v-160H400v160Zm0 220h160v-160H400v160ZM180-400h160v-160H180v160Zm440 0h160v-160H620v160ZM180-180h160v-160H180v160Zm440 0h160v-160H620v160Z\"/>\n",
              "  </svg>\n",
              "    </button>\n",
              "\n",
              "  <style>\n",
              "    .colab-df-container {\n",
              "      display:flex;\n",
              "      gap: 12px;\n",
              "    }\n",
              "\n",
              "    .colab-df-convert {\n",
              "      background-color: #E8F0FE;\n",
              "      border: none;\n",
              "      border-radius: 50%;\n",
              "      cursor: pointer;\n",
              "      display: none;\n",
              "      fill: #1967D2;\n",
              "      height: 32px;\n",
              "      padding: 0 0 0 0;\n",
              "      width: 32px;\n",
              "    }\n",
              "\n",
              "    .colab-df-convert:hover {\n",
              "      background-color: #E2EBFA;\n",
              "      box-shadow: 0px 1px 2px rgba(60, 64, 67, 0.3), 0px 1px 3px 1px rgba(60, 64, 67, 0.15);\n",
              "      fill: #174EA6;\n",
              "    }\n",
              "\n",
              "    .colab-df-buttons div {\n",
              "      margin-bottom: 4px;\n",
              "    }\n",
              "\n",
              "    [theme=dark] .colab-df-convert {\n",
              "      background-color: #3B4455;\n",
              "      fill: #D2E3FC;\n",
              "    }\n",
              "\n",
              "    [theme=dark] .colab-df-convert:hover {\n",
              "      background-color: #434B5C;\n",
              "      box-shadow: 0px 1px 3px 1px rgba(0, 0, 0, 0.15);\n",
              "      filter: drop-shadow(0px 1px 2px rgba(0, 0, 0, 0.3));\n",
              "      fill: #FFFFFF;\n",
              "    }\n",
              "  </style>\n",
              "\n",
              "    <script>\n",
              "      const buttonEl =\n",
              "        document.querySelector('#df-1d268965-ed46-4ca7-ba5d-9fd53f45cb45 button.colab-df-convert');\n",
              "      buttonEl.style.display =\n",
              "        google.colab.kernel.accessAllowed ? 'block' : 'none';\n",
              "\n",
              "      async function convertToInteractive(key) {\n",
              "        const element = document.querySelector('#df-1d268965-ed46-4ca7-ba5d-9fd53f45cb45');\n",
              "        const dataTable =\n",
              "          await google.colab.kernel.invokeFunction('convertToInteractive',\n",
              "                                                    [key], {});\n",
              "        if (!dataTable) return;\n",
              "\n",
              "        const docLinkHtml = 'Like what you see? Visit the ' +\n",
              "          '<a target=\"_blank\" href=https://colab.research.google.com/notebooks/data_table.ipynb>data table notebook</a>'\n",
              "          + ' to learn more about interactive tables.';\n",
              "        element.innerHTML = '';\n",
              "        dataTable['output_type'] = 'display_data';\n",
              "        await google.colab.output.renderOutput(dataTable, element);\n",
              "        const docLink = document.createElement('div');\n",
              "        docLink.innerHTML = docLinkHtml;\n",
              "        element.appendChild(docLink);\n",
              "      }\n",
              "    </script>\n",
              "  </div>\n",
              "\n",
              "\n",
              "    <div id=\"df-252a494b-eecf-41dd-9e69-3620b870af1c\">\n",
              "      <button class=\"colab-df-quickchart\" onclick=\"quickchart('df-252a494b-eecf-41dd-9e69-3620b870af1c')\"\n",
              "                title=\"Suggest charts\"\n",
              "                style=\"display:none;\">\n",
              "\n",
              "<svg xmlns=\"http://www.w3.org/2000/svg\" height=\"24px\"viewBox=\"0 0 24 24\"\n",
              "     width=\"24px\">\n",
              "    <g>\n",
              "        <path d=\"M19 3H5c-1.1 0-2 .9-2 2v14c0 1.1.9 2 2 2h14c1.1 0 2-.9 2-2V5c0-1.1-.9-2-2-2zM9 17H7v-7h2v7zm4 0h-2V7h2v10zm4 0h-2v-4h2v4z\"/>\n",
              "    </g>\n",
              "</svg>\n",
              "      </button>\n",
              "\n",
              "<style>\n",
              "  .colab-df-quickchart {\n",
              "      --bg-color: #E8F0FE;\n",
              "      --fill-color: #1967D2;\n",
              "      --hover-bg-color: #E2EBFA;\n",
              "      --hover-fill-color: #174EA6;\n",
              "      --disabled-fill-color: #AAA;\n",
              "      --disabled-bg-color: #DDD;\n",
              "  }\n",
              "\n",
              "  [theme=dark] .colab-df-quickchart {\n",
              "      --bg-color: #3B4455;\n",
              "      --fill-color: #D2E3FC;\n",
              "      --hover-bg-color: #434B5C;\n",
              "      --hover-fill-color: #FFFFFF;\n",
              "      --disabled-bg-color: #3B4455;\n",
              "      --disabled-fill-color: #666;\n",
              "  }\n",
              "\n",
              "  .colab-df-quickchart {\n",
              "    background-color: var(--bg-color);\n",
              "    border: none;\n",
              "    border-radius: 50%;\n",
              "    cursor: pointer;\n",
              "    display: none;\n",
              "    fill: var(--fill-color);\n",
              "    height: 32px;\n",
              "    padding: 0;\n",
              "    width: 32px;\n",
              "  }\n",
              "\n",
              "  .colab-df-quickchart:hover {\n",
              "    background-color: var(--hover-bg-color);\n",
              "    box-shadow: 0 1px 2px rgba(60, 64, 67, 0.3), 0 1px 3px 1px rgba(60, 64, 67, 0.15);\n",
              "    fill: var(--button-hover-fill-color);\n",
              "  }\n",
              "\n",
              "  .colab-df-quickchart-complete:disabled,\n",
              "  .colab-df-quickchart-complete:disabled:hover {\n",
              "    background-color: var(--disabled-bg-color);\n",
              "    fill: var(--disabled-fill-color);\n",
              "    box-shadow: none;\n",
              "  }\n",
              "\n",
              "  .colab-df-spinner {\n",
              "    border: 2px solid var(--fill-color);\n",
              "    border-color: transparent;\n",
              "    border-bottom-color: var(--fill-color);\n",
              "    animation:\n",
              "      spin 1s steps(1) infinite;\n",
              "  }\n",
              "\n",
              "  @keyframes spin {\n",
              "    0% {\n",
              "      border-color: transparent;\n",
              "      border-bottom-color: var(--fill-color);\n",
              "      border-left-color: var(--fill-color);\n",
              "    }\n",
              "    20% {\n",
              "      border-color: transparent;\n",
              "      border-left-color: var(--fill-color);\n",
              "      border-top-color: var(--fill-color);\n",
              "    }\n",
              "    30% {\n",
              "      border-color: transparent;\n",
              "      border-left-color: var(--fill-color);\n",
              "      border-top-color: var(--fill-color);\n",
              "      border-right-color: var(--fill-color);\n",
              "    }\n",
              "    40% {\n",
              "      border-color: transparent;\n",
              "      border-right-color: var(--fill-color);\n",
              "      border-top-color: var(--fill-color);\n",
              "    }\n",
              "    60% {\n",
              "      border-color: transparent;\n",
              "      border-right-color: var(--fill-color);\n",
              "    }\n",
              "    80% {\n",
              "      border-color: transparent;\n",
              "      border-right-color: var(--fill-color);\n",
              "      border-bottom-color: var(--fill-color);\n",
              "    }\n",
              "    90% {\n",
              "      border-color: transparent;\n",
              "      border-bottom-color: var(--fill-color);\n",
              "    }\n",
              "  }\n",
              "</style>\n",
              "\n",
              "      <script>\n",
              "        async function quickchart(key) {\n",
              "          const quickchartButtonEl =\n",
              "            document.querySelector('#' + key + ' button');\n",
              "          quickchartButtonEl.disabled = true;  // To prevent multiple clicks.\n",
              "          quickchartButtonEl.classList.add('colab-df-spinner');\n",
              "          try {\n",
              "            const charts = await google.colab.kernel.invokeFunction(\n",
              "                'suggestCharts', [key], {});\n",
              "          } catch (error) {\n",
              "            console.error('Error during call to suggestCharts:', error);\n",
              "          }\n",
              "          quickchartButtonEl.classList.remove('colab-df-spinner');\n",
              "          quickchartButtonEl.classList.add('colab-df-quickchart-complete');\n",
              "        }\n",
              "        (() => {\n",
              "          let quickchartButtonEl =\n",
              "            document.querySelector('#df-252a494b-eecf-41dd-9e69-3620b870af1c button');\n",
              "          quickchartButtonEl.style.display =\n",
              "            google.colab.kernel.accessAllowed ? 'block' : 'none';\n",
              "        })();\n",
              "      </script>\n",
              "    </div>\n",
              "    </div>\n",
              "  </div>\n"
            ],
            "application/vnd.google.colaboratory.intrinsic+json": {
              "type": "dataframe",
              "repr_error": "0"
            }
          },
          "metadata": {},
          "execution_count": 4
        }
      ],
      "source": [
        "text_columns = [\"Title\", \"FullDescription\"]\n",
        "categorical_columns = [\"Category\", \"Company\", \"LocationNormalized\", \"ContractType\", \"ContractTime\"]\n",
        "target_column = \"Log1pSalary\"\n",
        "\n",
        "data[categorical_columns] = data[categorical_columns].fillna('NaN') # cast missing values to string \"NaN\"\n",
        "\n",
        "data.sample(3)"
      ]
    },
    {
      "cell_type": "markdown",
      "metadata": {
        "id": "tM-HUMYGvkxS"
      },
      "source": [
        "### Preprocessing text data\n",
        "\n",
        "Just like last week, applying NLP to a problem begins from tokenization: splitting raw text into sequences of tokens (words, punctuation, etc).\n",
        "\n",
        "__Your task__ is to lowercase and tokenize all texts under `Title` and `FullDescription` columns. Store the tokenized data as a __space-separated__ string of tokens for performance reasons.\n",
        "\n",
        "It's okay to use nltk tokenizers. Assertions were designed for WordPunctTokenizer, slight deviations are okay."
      ]
    },
    {
      "cell_type": "code",
      "execution_count": null,
      "metadata": {
        "id": "bYif2WalvkxT",
        "outputId": "4650f180-1208-4bbe-990b-b921c8affb2b",
        "colab": {
          "base_uri": "https://localhost:8080/"
        }
      },
      "outputs": [
        {
          "output_type": "stream",
          "name": "stdout",
          "text": [
            "Raw text:\n",
            "2         Mathematical Modeller / Simulation Analyst / O...\n",
            "100002    A successful and high achieving specialist sch...\n",
            "200002    Web Designer  HTML, CSS, JavaScript, Photoshop...\n",
            "Name: FullDescription, dtype: object\n"
          ]
        }
      ],
      "source": [
        "print(\"Raw text:\")\n",
        "print(data[\"FullDescription\"][2::100000])"
      ]
    },
    {
      "cell_type": "code",
      "execution_count": null,
      "metadata": {
        "id": "UaRR72fxvkxU"
      },
      "outputs": [],
      "source": [
        "import nltk\n",
        "tokenizer = nltk.tokenize.WordPunctTokenizer()\n",
        "\n",
        "def str_tokenize(string: str):\n",
        "    string = str(string)\n",
        "    return \" \".join(tokenizer.tokenize(string.strip())).lower()\n",
        "\n",
        "data.FullDescription = data[\"FullDescription\"].apply(str_tokenize)\n",
        "data.Title = data[\"Title\"].apply(str_tokenize)"
      ]
    },
    {
      "cell_type": "markdown",
      "metadata": {
        "id": "y7_nYp4SvkxU"
      },
      "source": [
        "Now we can assume that our text is a space-separated list of tokens:"
      ]
    },
    {
      "cell_type": "code",
      "execution_count": null,
      "metadata": {
        "id": "KmjA6rHVvkxV",
        "outputId": "80220526-d71a-4cac-cd30-f1ad50c49101",
        "colab": {
          "base_uri": "https://localhost:8080/"
        }
      },
      "outputs": [
        {
          "output_type": "stream",
          "name": "stdout",
          "text": [
            "Tokenized:\n",
            "2         mathematical modeller / simulation analyst / o...\n",
            "100002    a successful and high achieving specialist sch...\n",
            "200002    web designer html , css , javascript , photosh...\n",
            "Name: FullDescription, dtype: object\n"
          ]
        }
      ],
      "source": [
        "print(\"Tokenized:\")\n",
        "print(data[\"FullDescription\"][2::100000])\n",
        "assert data[\"FullDescription\"][2][:50] == 'mathematical modeller / simulation analyst / opera'\n",
        "assert data[\"Title\"][54321] == 'international digital account manager ( german )'"
      ]
    },
    {
      "cell_type": "markdown",
      "metadata": {
        "id": "NAJtY-zBvkxW"
      },
      "source": [
        "Not all words are equally useful. Some of them are typos or rare words that are only present a few times.\n",
        "\n",
        "Let's count how many times is each word present in the data so that we can build a \"white list\" of known words."
      ]
    },
    {
      "cell_type": "code",
      "execution_count": null,
      "metadata": {
        "id": "2XsBbMGAvkxW",
        "outputId": "a968988b-c3ae-49ef-d990-7ed9a5d9618a",
        "colab": {
          "base_uri": "https://localhost:8080/"
        }
      },
      "outputs": [
        {
          "output_type": "execute_result",
          "data": {
            "text/plain": [
              "[('and', 2657388),\n",
              " ('.', 2523216),\n",
              " (',', 2318606),\n",
              " ('the', 2080994),\n",
              " ('to', 2019884),\n",
              " ('a', 1521925),\n",
              " ('of', 1426213),\n",
              " ('in', 1035792),\n",
              " ('for', 867233),\n",
              " ('with', 728884)]"
            ]
          },
          "metadata": {},
          "execution_count": 237
        }
      ],
      "source": [
        "from collections import Counter\n",
        "# Count how many times does each token occur in both \"Title\" and \"FullDescription\" in total\n",
        "# build a dictionary { token -> it's count }\n",
        "token_counts = Counter()\n",
        "for column in [\"Title\", \"FullDescription\"]:\n",
        "    for sentence in data[column]:\n",
        "        for token in sentence.split():\n",
        "            token_counts[token] += 1\n",
        "\n",
        "token_counts.most_common(10)"
      ]
    },
    {
      "cell_type": "code",
      "execution_count": null,
      "metadata": {
        "id": "SpLhe304vkxX",
        "outputId": "f5dc310b-df5d-4d29-c0c7-42bfc42a35f9",
        "colab": {
          "base_uri": "https://localhost:8080/"
        }
      },
      "outputs": [
        {
          "output_type": "stream",
          "name": "stdout",
          "text": [
            "Total unique tokens : 202704\n",
            "('and', 2657388)\n",
            "('.', 2523216)\n",
            "(',', 2318606)\n",
            "('the', 2080994)\n",
            "('to', 2019884)\n",
            "...\n",
            "('stephanietraveltraderecruitmnt', 1)\n",
            "('ruabon', 1)\n",
            "('lowehays', 1)\n",
            "Correct!\n"
          ]
        }
      ],
      "source": [
        "print(\"Total unique tokens :\", len(token_counts))\n",
        "print('\\n'.join(map(str, token_counts.most_common(n=5))))\n",
        "print('...')\n",
        "print('\\n'.join(map(str, token_counts.most_common()[-3:])))\n",
        "\n",
        "assert token_counts.most_common(1)[0][1] in range(2600000, 2700000)\n",
        "assert len(token_counts) in range(200000, 210000)\n",
        "print('Correct!')"
      ]
    },
    {
      "cell_type": "code",
      "execution_count": null,
      "metadata": {
        "id": "fi0BI45OvkxX",
        "outputId": "5f28fe99-ecff-42ba-c668-200aaaa18323",
        "colab": {
          "base_uri": "https://localhost:8080/",
          "height": 449
        }
      },
      "outputs": [
        {
          "output_type": "display_data",
          "data": {
            "text/plain": [
              "<Figure size 640x480 with 1 Axes>"
            ],
            "image/png": "[encoded data removed]"
          },
          "metadata": {}
        }
      ],
      "source": [
        "plt.hist(list(token_counts.values()), range=[0, 10**4], bins=50, log=True)\n",
        "plt.xlabel(\"Word counts\");"
      ]
    },
    {
      "cell_type": "markdown",
      "metadata": {
        "id": "Q1usdoSbvkxY"
      },
      "source": [
        "Now filter tokens a list of all tokens that occur at least 10 times."
      ]
    },
    {
      "cell_type": "code",
      "execution_count": null,
      "metadata": {
        "id": "FdgzRIJ_vkxY"
      },
      "outputs": [],
      "source": [
        "min_count = 10\n",
        "\n",
        "# tokens from token_counts keys that had at least min_count occurrences throughout the dataset\n",
        "tokens = [token for token, count in token_counts.items() if count > min_count]"
      ]
    },
    {
      "cell_type": "code",
      "execution_count": null,
      "metadata": {
        "id": "T5w3flTsvkxY",
        "outputId": "f638814e-7ef3-4f93-d464-85711d13bb17",
        "colab": {
          "base_uri": "https://localhost:8080/"
        }
      },
      "outputs": [
        {
          "output_type": "stream",
          "name": "stdout",
          "text": [
            "Vocabulary size: 32456\n",
            "Correct!\n"
          ]
        }
      ],
      "source": [
        "# Add a special tokens for unknown and empty words\n",
        "UNK, PAD = \"UNK\", \"PAD\"\n",
        "tokens = [UNK, PAD] + sorted(tokens)\n",
        "print(\"Vocabulary size:\", len(tokens))\n",
        "\n",
        "assert type(tokens) == list\n",
        "assert len(tokens) in range(30000, 40000)\n",
        "assert 'me' in tokens\n",
        "assert UNK in tokens\n",
        "print(\"Correct!\")"
      ]
    },
    {
      "cell_type": "markdown",
      "metadata": {
        "id": "Y3ZEeLU-vkxZ"
      },
      "source": [
        "Build an inverse token index: a dictionary from token(string) to it's index in `tokens` (int)"
      ]
    },
    {
      "cell_type": "code",
      "execution_count": null,
      "metadata": {
        "id": "nof3ReITvkxZ"
      },
      "outputs": [],
      "source": [
        "token_to_id = {token: i for i, token in enumerate(tokens)}"
      ]
    },
    {
      "cell_type": "code",
      "execution_count": null,
      "metadata": {
        "id": "nOGGGIy7vkxZ",
        "outputId": "f3966ea3-5a39-4ca2-d73b-b102bd90f535",
        "colab": {
          "base_uri": "https://localhost:8080/"
        }
      },
      "outputs": [
        {
          "output_type": "stream",
          "name": "stdout",
          "text": [
            "Correct!\n"
          ]
        }
      ],
      "source": [
        "assert isinstance(token_to_id, dict)\n",
        "assert len(token_to_id) == len(tokens)\n",
        "for tok in tokens:\n",
        "    assert tokens[token_to_id[tok]] == tok\n",
        "\n",
        "print(\"Correct!\")"
      ]
    },
    {
      "cell_type": "markdown",
      "metadata": {
        "id": "fWvDTW_WvkxZ"
      },
      "source": [
        "And finally, let's use the vocabulary you've built to map text lines into neural network-digestible matrices."
      ]
    },
    {
      "cell_type": "code",
      "execution_count": null,
      "metadata": {
        "id": "FfJTn8mbvkxZ"
      },
      "outputs": [],
      "source": [
        "UNK_IX, PAD_IX = map(token_to_id.get, [UNK, PAD])\n",
        "\n",
        "def as_matrix(sequences, max_len=None):\n",
        "    \"\"\" Convert a list of tokens into a matrix with padding \"\"\"\n",
        "    if isinstance(sequences[0], str):\n",
        "        sequences = list(map(str.split, sequences))\n",
        "\n",
        "    max_len = max(min(max(map(len, sequences)), max_len or float('inf')), 6)\n",
        "\n",
        "    matrix = np.full((len(sequences), max_len), np.int32(PAD_IX))\n",
        "    for i,seq in enumerate(sequences):\n",
        "        row_ix = [token_to_id.get(word, UNK_IX) for word in seq[:max_len]]\n",
        "        matrix[i, :len(row_ix)] = row_ix\n",
        "\n",
        "    return matrix"
      ]
    },
    {
      "cell_type": "code",
      "execution_count": null,
      "metadata": {
        "id": "Bd27NRNnvkxa",
        "outputId": "b45e742a-2d9b-44ce-e2d3-db27a5e0176e",
        "colab": {
          "base_uri": "https://localhost:8080/"
        }
      },
      "outputs": [
        {
          "output_type": "stream",
          "name": "stdout",
          "text": [
            "Lines:\n",
            "engineering systems analyst\n",
            "hr assistant\n",
            "senior ec & i engineer\n",
            "\n",
            "Matrix:\n",
            "[[10273 28655  2055     1     1     1]\n",
            " [14296  2700     1     1     1     1]\n",
            " [26272  9698    14 14484 10270     1]]\n"
          ]
        }
      ],
      "source": [
        "print(\"Lines:\")\n",
        "print('\\n'.join(data[\"Title\"][::100000].values), end='\\n\\n')\n",
        "print(\"Matrix:\")\n",
        "print(as_matrix(data[\"Title\"][::100000]))"
      ]
    },
    {
      "cell_type": "markdown",
      "metadata": {
        "id": "0jmmRAaRvkxa"
      },
      "source": [
        "Now let's  encode the categirical data we have.\n",
        "\n",
        "As usual, we shall use one-hot encoding for simplicity. Kudos if you implement more advanced encodings: tf-idf, pseudo-time-series, etc."
      ]
    },
    {
      "cell_type": "code",
      "execution_count": null,
      "metadata": {
        "id": "NqWs9wxRvkxa",
        "outputId": "e1cf7b78-ac64-4113-ec75-bc7b9aa880cf",
        "colab": {
          "base_uri": "https://localhost:8080/",
          "height": 80
        }
      },
      "outputs": [
        {
          "output_type": "execute_result",
          "data": {
            "text/plain": [
              "DictVectorizer(dtype=<class 'numpy.float32'>, sparse=False)"
            ],
            "text/html": [
              "<style>#sk-container-id-5 {\n",
              "  /* Definition of color scheme common for light and dark mode */\n",
              "  --sklearn-color-text: #000;\n",
              "  --sklearn-color-text-muted: #666;\n",
              "  --sklearn-color-line: gray;\n",
              "  /* Definition of color scheme for unfitted estimators */\n",
              "  --sklearn-color-unfitted-level-0: #fff5e6;\n",
              "  --sklearn-color-unfitted-level-1: #f6e4d2;\n",
              "  --sklearn-color-unfitted-level-2: #ffe0b3;\n",
              "  --sklearn-color-unfitted-level-3: chocolate;\n",
              "  /* Definition of color scheme for fitted estimators */\n",
              "  --sklearn-color-fitted-level-0: #f0f8ff;\n",
              "  --sklearn-color-fitted-level-1: #d4ebff;\n",
              "  --sklearn-color-fitted-level-2: #b3dbfd;\n",
              "  --sklearn-color-fitted-level-3: cornflowerblue;\n",
              "\n",
              "  /* Specific color for light theme */\n",
              "  --sklearn-color-text-on-default-background: var(--sg-text-color, var(--theme-code-foreground, var(--jp-content-font-color1, black)));\n",
              "  --sklearn-color-background: var(--sg-background-color, var(--theme-background, var(--jp-layout-color0, white)));\n",
              "  --sklearn-color-border-box: var(--sg-text-color, var(--theme-code-foreground, var(--jp-content-font-color1, black)));\n",
              "  --sklearn-color-icon: #696969;\n",
              "\n",
              "  @media (prefers-color-scheme: dark) {\n",
              "    /* Redefinition of color scheme for dark theme */\n",
              "    --sklearn-color-text-on-default-background: var(--sg-text-color, var(--theme-code-foreground, var(--jp-content-font-color1, white)));\n",
              "    --sklearn-color-background: var(--sg-background-color, var(--theme-background, var(--jp-layout-color0, #111)));\n",
              "    --sklearn-color-border-box: var(--sg-text-color, var(--theme-code-foreground, var(--jp-content-font-color1, white)));\n",
              "    --sklearn-color-icon: #878787;\n",
              "  }\n",
              "}\n",
              "\n",
              "#sk-container-id-5 {\n",
              "  color: var(--sklearn-color-text);\n",
              "}\n",
              "\n",
              "#sk-container-id-5 pre {\n",
              "  padding: 0;\n",
              "}\n",
              "\n",
              "#sk-container-id-5 input.sk-hidden--visually {\n",
              "  border: 0;\n",
              "  clip: rect(1px 1px 1px 1px);\n",
              "  clip: rect(1px, 1px, 1px, 1px);\n",
              "  height: 1px;\n",
              "  margin: -1px;\n",
              "  overflow: hidden;\n",
              "  padding: 0;\n",
              "  position: absolute;\n",
              "  width: 1px;\n",
              "}\n",
              "\n",
              "#sk-container-id-5 div.sk-dashed-wrapped {\n",
              "  border: 1px dashed var(--sklearn-color-line);\n",
              "  margin: 0 0.4em 0.5em 0.4em;\n",
              "  box-sizing: border-box;\n",
              "  padding-bottom: 0.4em;\n",
              "  background-color: var(--sklearn-color-background);\n",
              "}\n",
              "\n",
              "#sk-container-id-5 div.sk-container {\n",
              "  /* jupyter's `normalize.less` sets `[hidden] { display: none; }`\n",
              "     but bootstrap.min.css set `[hidden] { display: none !important; }`\n",
              "     so we also need the `!important` here to be able to override the\n",
              "     default hidden behavior on the sphinx rendered scikit-learn.org.\n",
              "     See: https://github.com/scikit-learn/scikit-learn/issues/21755 */\n",
              "  display: inline-block !important;\n",
              "  position: relative;\n",
              "}\n",
              "\n",
              "#sk-container-id-5 div.sk-text-repr-fallback {\n",
              "  display: none;\n",
              "}\n",
              "\n",
              "div.sk-parallel-item,\n",
              "div.sk-serial,\n",
              "div.sk-item {\n",
              "  /* draw centered vertical line to link estimators */\n",
              "  background-image: linear-gradient(var(--sklearn-color-text-on-default-background), var(--sklearn-color-text-on-default-background));\n",
              "  background-size: 2px 100%;\n",
              "  background-repeat: no-repeat;\n",
              "  background-position: center center;\n",
              "}\n",
              "\n",
              "/* Parallel-specific style estimator block */\n",
              "\n",
              "#sk-container-id-5 div.sk-parallel-item::after {\n",
              "  content: \"\";\n",
              "  width: 100%;\n",
              "  border-bottom: 2px solid var(--sklearn-color-text-on-default-background);\n",
              "  flex-grow: 1;\n",
              "}\n",
              "\n",
              "#sk-container-id-5 div.sk-parallel {\n",
              "  display: flex;\n",
              "  align-items: stretch;\n",
              "  justify-content: center;\n",
              "  background-color: var(--sklearn-color-background);\n",
              "  position: relative;\n",
              "}\n",
              "\n",
              "#sk-container-id-5 div.sk-parallel-item {\n",
              "  display: flex;\n",
              "  flex-direction: column;\n",
              "}\n",
              "\n",
              "#sk-container-id-5 div.sk-parallel-item:first-child::after {\n",
              "  align-self: flex-end;\n",
              "  width: 50%;\n",
              "}\n",
              "\n",
              "#sk-container-id-5 div.sk-parallel-item:last-child::after {\n",
              "  align-self: flex-start;\n",
              "  width: 50%;\n",
              "}\n",
              "\n",
              "#sk-container-id-5 div.sk-parallel-item:only-child::after {\n",
              "  width: 0;\n",
              "}\n",
              "\n",
              "/* Serial-specific style estimator block */\n",
              "\n",
              "#sk-container-id-5 div.sk-serial {\n",
              "  display: flex;\n",
              "  flex-direction: column;\n",
              "  align-items: center;\n",
              "  background-color: var(--sklearn-color-background);\n",
              "  padding-right: 1em;\n",
              "  padding-left: 1em;\n",
              "}\n",
              "\n",
              "\n",
              "/* Toggleable style: style used for estimator/Pipeline/ColumnTransformer box that is\n",
              "clickable and can be expanded/collapsed.\n",
              "- Pipeline and ColumnTransformer use this feature and define the default style\n",
              "- Estimators will overwrite some part of the style using the `sk-estimator` class\n",
              "*/\n",
              "\n",
              "/* Pipeline and ColumnTransformer style (default) */\n",
              "\n",
              "#sk-container-id-5 div.sk-toggleable {\n",
              "  /* Default theme specific background. It is overwritten whether we have a\n",
              "  specific estimator or a Pipeline/ColumnTransformer */\n",
              "  background-color: var(--sklearn-color-background);\n",
              "}\n",
              "\n",
              "/* Toggleable label */\n",
              "#sk-container-id-5 label.sk-toggleable__label {\n",
              "  cursor: pointer;\n",
              "  display: flex;\n",
              "  width: 100%;\n",
              "  margin-bottom: 0;\n",
              "  padding: 0.5em;\n",
              "  box-sizing: border-box;\n",
              "  text-align: center;\n",
              "  align-items: start;\n",
              "  justify-content: space-between;\n",
              "  gap: 0.5em;\n",
              "}\n",
              "\n",
              "#sk-container-id-5 label.sk-toggleable__label .caption {\n",
              "  font-size: 0.6rem;\n",
              "  font-weight: lighter;\n",
              "  color: var(--sklearn-color-text-muted);\n",
              "}\n",
              "\n",
              "#sk-container-id-5 label.sk-toggleable__label-arrow:before {\n",
              "  /* Arrow on the left of the label */\n",
              "  content: \"▸\";\n",
              "  float: left;\n",
              "  margin-right: 0.25em;\n",
              "  color: var(--sklearn-color-icon);\n",
              "}\n",
              "\n",
              "#sk-container-id-5 label.sk-toggleable__label-arrow:hover:before {\n",
              "  color: var(--sklearn-color-text);\n",
              "}\n",
              "\n",
              "/* Toggleable content - dropdown */\n",
              "\n",
              "#sk-container-id-5 div.sk-toggleable__content {\n",
              "  max-height: 0;\n",
              "  max-width: 0;\n",
              "  overflow: hidden;\n",
              "  text-align: left;\n",
              "  /* unfitted */\n",
              "  background-color: var(--sklearn-color-unfitted-level-0);\n",
              "}\n",
              "\n",
              "#sk-container-id-5 div.sk-toggleable__content.fitted {\n",
              "  /* fitted */\n",
              "  background-color: var(--sklearn-color-fitted-level-0);\n",
              "}\n",
              "\n",
              "#sk-container-id-5 div.sk-toggleable__content pre {\n",
              "  margin: 0.2em;\n",
              "  border-radius: 0.25em;\n",
              "  color: var(--sklearn-color-text);\n",
              "  /* unfitted */\n",
              "  background-color: var(--sklearn-color-unfitted-level-0);\n",
              "}\n",
              "\n",
              "#sk-container-id-5 div.sk-toggleable__content.fitted pre {\n",
              "  /* unfitted */\n",
              "  background-color: var(--sklearn-color-fitted-level-0);\n",
              "}\n",
              "\n",
              "#sk-container-id-5 input.sk-toggleable__control:checked~div.sk-toggleable__content {\n",
              "  /* Expand drop-down */\n",
              "  max-height: 200px;\n",
              "  max-width: 100%;\n",
              "  overflow: auto;\n",
              "}\n",
              "\n",
              "#sk-container-id-5 input.sk-toggleable__control:checked~label.sk-toggleable__label-arrow:before {\n",
              "  content: \"▾\";\n",
              "}\n",
              "\n",
              "/* Pipeline/ColumnTransformer-specific style */\n",
              "\n",
              "#sk-container-id-5 div.sk-label input.sk-toggleable__control:checked~label.sk-toggleable__label {\n",
              "  color: var(--sklearn-color-text);\n",
              "  background-color: var(--sklearn-color-unfitted-level-2);\n",
              "}\n",
              "\n",
              "#sk-container-id-5 div.sk-label.fitted input.sk-toggleable__control:checked~label.sk-toggleable__label {\n",
              "  background-color: var(--sklearn-color-fitted-level-2);\n",
              "}\n",
              "\n",
              "/* Estimator-specific style */\n",
              "\n",
              "/* Colorize estimator box */\n",
              "#sk-container-id-5 div.sk-estimator input.sk-toggleable__control:checked~label.sk-toggleable__label {\n",
              "  /* unfitted */\n",
              "  background-color: var(--sklearn-color-unfitted-level-2);\n",
              "}\n",
              "\n",
              "#sk-container-id-5 div.sk-estimator.fitted input.sk-toggleable__control:checked~label.sk-toggleable__label {\n",
              "  /* fitted */\n",
              "  background-color: var(--sklearn-color-fitted-level-2);\n",
              "}\n",
              "\n",
              "#sk-container-id-5 div.sk-label label.sk-toggleable__label,\n",
              "#sk-container-id-5 div.sk-label label {\n",
              "  /* The background is the default theme color */\n",
              "  color: var(--sklearn-color-text-on-default-background);\n",
              "}\n",
              "\n",
              "/* On hover, darken the color of the background */\n",
              "#sk-container-id-5 div.sk-label:hover label.sk-toggleable__label {\n",
              "  color: var(--sklearn-color-text);\n",
              "  background-color: var(--sklearn-color-unfitted-level-2);\n",
              "}\n",
              "\n",
              "/* Label box, darken color on hover, fitted */\n",
              "#sk-container-id-5 div.sk-label.fitted:hover label.sk-toggleable__label.fitted {\n",
              "  color: var(--sklearn-color-text);\n",
              "  background-color: var(--sklearn-color-fitted-level-2);\n",
              "}\n",
              "\n",
              "/* Estimator label */\n",
              "\n",
              "#sk-container-id-5 div.sk-label label {\n",
              "  font-family: monospace;\n",
              "  font-weight: bold;\n",
              "  display: inline-block;\n",
              "  line-height: 1.2em;\n",
              "}\n",
              "\n",
              "#sk-container-id-5 div.sk-label-container {\n",
              "  text-align: center;\n",
              "}\n",
              "\n",
              "/* Estimator-specific */\n",
              "#sk-container-id-5 div.sk-estimator {\n",
              "  font-family: monospace;\n",
              "  border: 1px dotted var(--sklearn-color-border-box);\n",
              "  border-radius: 0.25em;\n",
              "  box-sizing: border-box;\n",
              "  margin-bottom: 0.5em;\n",
              "  /* unfitted */\n",
              "  background-color: var(--sklearn-color-unfitted-level-0);\n",
              "}\n",
              "\n",
              "#sk-container-id-5 div.sk-estimator.fitted {\n",
              "  /* fitted */\n",
              "  background-color: var(--sklearn-color-fitted-level-0);\n",
              "}\n",
              "\n",
              "/* on hover */\n",
              "#sk-container-id-5 div.sk-estimator:hover {\n",
              "  /* unfitted */\n",
              "  background-color: var(--sklearn-color-unfitted-level-2);\n",
              "}\n",
              "\n",
              "#sk-container-id-5 div.sk-estimator.fitted:hover {\n",
              "  /* fitted */\n",
              "  background-color: var(--sklearn-color-fitted-level-2);\n",
              "}\n",
              "\n",
              "/* Specification for estimator info (e.g. \"i\" and \"?\") */\n",
              "\n",
              "/* Common style for \"i\" and \"?\" */\n",
              "\n",
              ".sk-estimator-doc-link,\n",
              "a:link.sk-estimator-doc-link,\n",
              "a:visited.sk-estimator-doc-link {\n",
              "  float: right;\n",
              "  font-size: smaller;\n",
              "  line-height: 1em;\n",
              "  font-family: monospace;\n",
              "  background-color: var(--sklearn-color-background);\n",
              "  border-radius: 1em;\n",
              "  height: 1em;\n",
              "  width: 1em;\n",
              "  text-decoration: none !important;\n",
              "  margin-left: 0.5em;\n",
              "  text-align: center;\n",
              "  /* unfitted */\n",
              "  border: var(--sklearn-color-unfitted-level-1) 1pt solid;\n",
              "  color: var(--sklearn-color-unfitted-level-1);\n",
              "}\n",
              "\n",
              ".sk-estimator-doc-link.fitted,\n",
              "a:link.sk-estimator-doc-link.fitted,\n",
              "a:visited.sk-estimator-doc-link.fitted {\n",
              "  /* fitted */\n",
              "  border: var(--sklearn-color-fitted-level-1) 1pt solid;\n",
              "  color: var(--sklearn-color-fitted-level-1);\n",
              "}\n",
              "\n",
              "/* On hover */\n",
              "div.sk-estimator:hover .sk-estimator-doc-link:hover,\n",
              ".sk-estimator-doc-link:hover,\n",
              "div.sk-label-container:hover .sk-estimator-doc-link:hover,\n",
              ".sk-estimator-doc-link:hover {\n",
              "  /* unfitted */\n",
              "  background-color: var(--sklearn-color-unfitted-level-3);\n",
              "  color: var(--sklearn-color-background);\n",
              "  text-decoration: none;\n",
              "}\n",
              "\n",
              "div.sk-estimator.fitted:hover .sk-estimator-doc-link.fitted:hover,\n",
              ".sk-estimator-doc-link.fitted:hover,\n",
              "div.sk-label-container:hover .sk-estimator-doc-link.fitted:hover,\n",
              ".sk-estimator-doc-link.fitted:hover {\n",
              "  /* fitted */\n",
              "  background-color: var(--sklearn-color-fitted-level-3);\n",
              "  color: var(--sklearn-color-background);\n",
              "  text-decoration: none;\n",
              "}\n",
              "\n",
              "/* Span, style for the box shown on hovering the info icon */\n",
              ".sk-estimator-doc-link span {\n",
              "  display: none;\n",
              "  z-index: 9999;\n",
              "  position: relative;\n",
              "  font-weight: normal;\n",
              "  right: .2ex;\n",
              "  padding: .5ex;\n",
              "  margin: .5ex;\n",
              "  width: min-content;\n",
              "  min-width: 20ex;\n",
              "  max-width: 50ex;\n",
              "  color: var(--sklearn-color-text);\n",
              "  box-shadow: 2pt 2pt 4pt #999;\n",
              "  /* unfitted */\n",
              "  background: var(--sklearn-color-unfitted-level-0);\n",
              "  border: .5pt solid var(--sklearn-color-unfitted-level-3);\n",
              "}\n",
              "\n",
              ".sk-estimator-doc-link.fitted span {\n",
              "  /* fitted */\n",
              "  background: var(--sklearn-color-fitted-level-0);\n",
              "  border: var(--sklearn-color-fitted-level-3);\n",
              "}\n",
              "\n",
              ".sk-estimator-doc-link:hover span {\n",
              "  display: block;\n",
              "}\n",
              "\n",
              "/* \"?\"-specific style due to the `<a>` HTML tag */\n",
              "\n",
              "#sk-container-id-5 a.estimator_doc_link {\n",
              "  float: right;\n",
              "  font-size: 1rem;\n",
              "  line-height: 1em;\n",
              "  font-family: monospace;\n",
              "  background-color: var(--sklearn-color-background);\n",
              "  border-radius: 1rem;\n",
              "  height: 1rem;\n",
              "  width: 1rem;\n",
              "  text-decoration: none;\n",
              "  /* unfitted */\n",
              "  color: var(--sklearn-color-unfitted-level-1);\n",
              "  border: var(--sklearn-color-unfitted-level-1) 1pt solid;\n",
              "}\n",
              "\n",
              "#sk-container-id-5 a.estimator_doc_link.fitted {\n",
              "  /* fitted */\n",
              "  border: var(--sklearn-color-fitted-level-1) 1pt solid;\n",
              "  color: var(--sklearn-color-fitted-level-1);\n",
              "}\n",
              "\n",
              "/* On hover */\n",
              "#sk-container-id-5 a.estimator_doc_link:hover {\n",
              "  /* unfitted */\n",
              "  background-color: var(--sklearn-color-unfitted-level-3);\n",
              "  color: var(--sklearn-color-background);\n",
              "  text-decoration: none;\n",
              "}\n",
              "\n",
              "#sk-container-id-5 a.estimator_doc_link.fitted:hover {\n",
              "  /* fitted */\n",
              "  background-color: var(--sklearn-color-fitted-level-3);\n",
              "}\n",
              "</style><div id=\"sk-container-id-5\" class=\"sk-top-container\"><div class=\"sk-text-repr-fallback\"><pre>DictVectorizer(dtype=&lt;class &#x27;numpy.float32&#x27;&gt;, sparse=False)</pre><b>In a Jupyter environment, please rerun this cell to show the HTML representation or trust the notebook. <br />On GitHub, the HTML representation is unable to render, please try loading this page with nbviewer.org.</b></div><div class=\"sk-container\" hidden><div class=\"sk-item\"><div class=\"sk-estimator fitted sk-toggleable\"><input class=\"sk-toggleable__control sk-hidden--visually\" id=\"sk-estimator-id-5\" type=\"checkbox\" checked><label for=\"sk-estimator-id-5\" class=\"sk-toggleable__label fitted sk-toggleable__label-arrow\"><div><div>DictVectorizer</div></div><div><a class=\"sk-estimator-doc-link fitted\" rel=\"noreferrer\" target=\"_blank\" href=\"https://scikit-learn.org/1.6/modules/generated/sklearn.feature_extraction.DictVectorizer.html\">?<span>Documentation for DictVectorizer</span></a><span class=\"sk-estimator-doc-link fitted\">i<span>Fitted</span></span></div></label><div class=\"sk-toggleable__content fitted\"><pre>DictVectorizer(dtype=&lt;class &#x27;numpy.float32&#x27;&gt;, sparse=False)</pre></div> </div></div></div></div>"
            ]
          },
          "metadata": {},
          "execution_count": 218
        }
      ],
      "source": [
        "from sklearn.feature_extraction import DictVectorizer\n",
        "\n",
        "# we only consider top-1k most frequent companies to minimize memory usage\n",
        "top_companies, top_counts = zip(*Counter(data['Company']).most_common(1000))\n",
        "recognized_companies = set(top_companies)\n",
        "data[\"Company\"] = data[\"Company\"].apply(lambda comp: comp if comp in recognized_companies else \"Other\")\n",
        "\n",
        "categorical_vectorizer = DictVectorizer(dtype=np.float32, sparse=False)\n",
        "categorical_vectorizer.fit(data[categorical_columns].apply(dict, axis=1))"
      ]
    },
    {
      "cell_type": "markdown",
      "metadata": {
        "id": "DAUwVe9Dvkxa"
      },
      "source": [
        "### The deep learning part\n",
        "\n",
        "Once we've learned to tokenize the data, let's design a machine learning experiment.\n",
        "\n",
        "As before, we won't focus too much on validation, opting for a simple train-test split.\n",
        "\n",
        "__To be completely rigorous,__ we've comitted a small crime here: we used the whole data for tokenization and vocabulary building. A more strict way would be to do that part on training set only. You may want to do that and measure the magnitude of changes."
      ]
    },
    {
      "cell_type": "code",
      "execution_count": null,
      "metadata": {
        "id": "QhNWc7ERvkxa",
        "outputId": "532dbcdd-dceb-447a-ebdd-8e6add1ef37d",
        "colab": {
          "base_uri": "https://localhost:8080/"
        }
      },
      "outputs": [
        {
          "output_type": "stream",
          "name": "stdout",
          "text": [
            "Train size =  195814\n",
            "Validation size =  48954\n"
          ]
        }
      ],
      "source": [
        "from sklearn.model_selection import train_test_split\n",
        "\n",
        "data_train, data_val = train_test_split(data, test_size=0.2, random_state=42)\n",
        "data_train.index = range(len(data_train))\n",
        "data_val.index = range(len(data_val))\n",
        "\n",
        "print(\"Train size = \", len(data_train))\n",
        "print(\"Validation size = \", len(data_val))"
      ]
    },
    {
      "cell_type": "code",
      "execution_count": null,
      "metadata": {
        "id": "39SL30nMxmth"
      },
      "outputs": [],
      "source": [
        "import torch\n",
        "import torch.nn as nn\n",
        "import torch.nn.functional as F\n",
        "\n",
        "\n",
        "device = 'cuda' if torch.cuda.is_available() else 'cpu'\n",
        "\n",
        "\n",
        "def to_tensors(batch, device):\n",
        "    batch_tensors = dict()\n",
        "    for key, arr in batch.items():\n",
        "        if key in [\"FullDescription\", \"Title\"]:\n",
        "            batch_tensors[key] = torch.tensor(arr, device=device, dtype=torch.int64)\n",
        "        else:\n",
        "            batch_tensors[key] = torch.tensor(arr, device=device)\n",
        "    return batch_tensors\n",
        "\n",
        "\n",
        "def make_batch(data, max_len=None, word_dropout=0, device=device):\n",
        "    \"\"\"\n",
        "    Creates a keras-friendly dict from the batch data.\n",
        "    :param word_dropout: replaces token index with UNK_IX with this probability\n",
        "    :returns: a dict with {'title' : int64[batch, title_max_len]\n",
        "    \"\"\"\n",
        "    batch = {}\n",
        "    batch[\"Title\"] = as_matrix(data[\"Title\"].values, max_len)\n",
        "    batch[\"FullDescription\"] = as_matrix(data[\"FullDescription\"].values, max_len)\n",
        "    batch['Categorical'] = categorical_vectorizer.transform(data[categorical_columns].apply(dict, axis=1))\n",
        "\n",
        "    if word_dropout != 0:\n",
        "        batch[\"FullDescription\"] = apply_word_dropout(batch[\"FullDescription\"], 1. - word_dropout)\n",
        "\n",
        "    if target_column in data.columns:\n",
        "        batch[target_column] = data[target_column].values\n",
        "\n",
        "    return to_tensors(batch, device)\n",
        "\n",
        "def apply_word_dropout(matrix, keep_prop, replace_with=UNK_IX, pad_ix=PAD_IX,):\n",
        "    dropout_mask = np.random.choice(2, np.shape(matrix), p=[keep_prop, 1 - keep_prop])\n",
        "    dropout_mask &= matrix != pad_ix\n",
        "    return np.choose(dropout_mask, [matrix, np.full_like(matrix, replace_with)])"
      ]
    },
    {
      "cell_type": "code",
      "execution_count": null,
      "metadata": {
        "id": "ahX18rSXvkxb",
        "outputId": "24ca116b-9a7f-4704-8218-03a56e2c244e",
        "colab": {
          "base_uri": "https://localhost:8080/"
        }
      },
      "outputs": [
        {
          "output_type": "execute_result",
          "data": {
            "text/plain": [
              "{'Title': tensor([[26272, 28401, 31999,     1,     1,     1,     1],\n",
              "         [27772,   187, 18227, 19056, 14801, 22008,  3848],\n",
              "         [10082, 28895, 16876,    31,  8281, 27695,    61]]),\n",
              " 'FullDescription': tensor([[26272, 28401, 31999, 31307,   909, 26272, 28401, 31999, 15662, 31307],\n",
              "         [27772,   187, 18227, 19056, 14801, 22008,  3848, 24230,   836,    77],\n",
              "         [29212, 20872, 19591,  6092, 15662,  7773, 26125,   909, 28895, 16876]]),\n",
              " 'Categorical': tensor([[0., 0., 0.,  ..., 0., 0., 0.],\n",
              "         [0., 0., 0.,  ..., 0., 0., 0.],\n",
              "         [0., 0., 0.,  ..., 0., 0., 0.]]),\n",
              " 'Log1pSalary': tensor([ 9.7115, 10.4631, 10.7144])}"
            ]
          },
          "metadata": {},
          "execution_count": 221
        }
      ],
      "source": [
        "make_batch(data_train[:3], max_len=10)"
      ]
    },
    {
      "cell_type": "markdown",
      "metadata": {
        "id": "ImQ4JkgQvkxc"
      },
      "source": [
        "#### Architecture\n",
        "\n",
        "Our basic model consists of three branches:\n",
        "* Title encoder\n",
        "* Description encoder\n",
        "* Categorical features encoder\n",
        "\n",
        "We will then feed all 3 branches into one common network that predicts salary.\n",
        "\n",
        "<img src=\"https://github.com/yandexdataschool/nlp_course/raw/master/resources/w2_conv_arch.png\" width=600px>"
      ]
    },
    {
      "cell_type": "code",
      "source": [
        "emb = nn.Embedding(32000, 5)\n",
        "batch = make_batch(data_train[:3], max_len=10)[\"FullDescription\"].squeeze()\n",
        "emb(batch).shape"
      ],
      "metadata": {
        "id": "E0esHUnkx0mJ",
        "outputId": "e87b1c17-008c-46ac-9e9d-c62b4b6124c2",
        "colab": {
          "base_uri": "https://localhost:8080/"
        }
      },
      "execution_count": null,
      "outputs": [
        {
          "output_type": "execute_result",
          "data": {
            "text/plain": [
              "torch.Size([3, 10, 5])"
            ]
          },
          "metadata": {},
          "execution_count": 222
        }
      ]
    },
    {
      "cell_type": "code",
      "source": [
        "emb.weight.shape"
      ],
      "metadata": {
        "id": "RWJbQOhBzPv1",
        "outputId": "b6c56a30-68a8-4a05-9a78-746eb1095ad9",
        "colab": {
          "base_uri": "https://localhost:8080/"
        }
      },
      "execution_count": null,
      "outputs": [
        {
          "output_type": "execute_result",
          "data": {
            "text/plain": [
              "torch.Size([32000, 5])"
            ]
          },
          "metadata": {},
          "execution_count": 223
        }
      ]
    },
    {
      "cell_type": "code",
      "execution_count": null,
      "metadata": {
        "id": "y_PPMzs4xmth"
      },
      "outputs": [],
      "source": [
        "class SalaryPredictor(nn.Module):\n",
        "    def __init__(self, n_tokens=len(tokens), n_cat_features=len(categorical_vectorizer.vocabulary_), hid_size=64):\n",
        "        super().__init__()\n",
        "        self.emb = nn.Embedding(n_tokens, hid_size)\n",
        "        self.conv_description = nn.Sequential(\n",
        "            nn.Conv1d(hid_size, 64, kernel_size=5, stride=2),\n",
        "            nn.ReLU(),\n",
        "            nn.Conv1d(64, 32, kernel_size=3, stride=1)\n",
        "        )\n",
        "        self.conv_title = nn.Sequential(\n",
        "            nn.Conv1d(hid_size, 64, kernel_size=3, stride=1),\n",
        "            nn.ReLU(),\n",
        "            nn.Conv1d(64, 32, kernel_size=2, stride=1)\n",
        "        )\n",
        "        self.pooling = nn.MaxPool1d(2)\n",
        "        self.categorial_nn = nn.Sequential(\n",
        "            nn.Linear(n_cat_features, 256),\n",
        "            nn.ReLU(),\n",
        "            nn.Linear(256, 128)\n",
        "        )\n",
        "\n",
        "        self.classifier = nn.Linear(192, 1)\n",
        "\n",
        "    def forward(self, batch):\n",
        "        embeds = self.emb(batch[\"Title\"])\n",
        "        conv_output = self.conv_title(embeds.permute(0,2,1))\n",
        "        title = conv_output.mean(axis=2)\n",
        "\n",
        "        title = torch.flatten(title, 1)\n",
        "\n",
        "        embeds = self.emb(batch[\"FullDescription\"])\n",
        "        conv_output = self.conv_description(embeds.permute(0,2,1))\n",
        "        description = conv_output.mean(axis=2)\n",
        "        description = torch.flatten(description, 1)\n",
        "\n",
        "        categorical = self.categorial_nn(batch[\"Categorical\"])\n",
        "\n",
        "        result = torch.concat((description, title, categorical), axis=1)\n",
        "\n",
        "        return self.classifier(result).squeeze()"
      ]
    },
    {
      "cell_type": "code",
      "execution_count": null,
      "metadata": {
        "id": "nhgt4OqLxmti"
      },
      "outputs": [],
      "source": [
        "model = SalaryPredictor()"
      ]
    },
    {
      "cell_type": "code",
      "execution_count": null,
      "metadata": {
        "id": "NMzlenvsxmti"
      },
      "outputs": [],
      "source": [
        "model = SalaryPredictor().to(device)\n",
        "batch = make_batch(data_train[:100], device=device)\n",
        "criterion = nn.MSELoss()\n",
        "\n",
        "dummy_pred = model(batch)\n",
        "dummy_loss = criterion(dummy_pred, batch[target_column])\n",
        "assert dummy_pred.shape == torch.Size([100])\n",
        "assert len(torch.unique(dummy_pred)) > 20, \"model returns suspiciously few unique outputs. Check your initialization\"\n",
        "assert dummy_loss.ndim == 0 and 0. <= dummy_loss <= 250., \"make sure you minimize MSE\""
      ]
    },
    {
      "cell_type": "markdown",
      "metadata": {
        "id": "u-EyIKD6xmti"
      },
      "source": [
        "#### Training and evaluation\n",
        "\n",
        "As usual, we gonna feed our monster with random minibatches of data.\n",
        "\n",
        "As we train, we want to monitor not only loss function, which is computed in log-space, but also the actual error measured in dollars."
      ]
    },
    {
      "cell_type": "code",
      "execution_count": null,
      "metadata": {
        "id": "FLg_xEyBxmtn"
      },
      "outputs": [],
      "source": [
        "def iterate_minibatches(data, batch_size=256, shuffle=True, cycle=False, device=device, **kwargs):\n",
        "    \"\"\" iterates minibatches of data in random order \"\"\"\n",
        "    while True:\n",
        "        indices = np.arange(len(data))\n",
        "        if shuffle:\n",
        "            indices = np.random.permutation(indices)\n",
        "\n",
        "        for start in range(0, len(indices), batch_size):\n",
        "            batch = make_batch(data.iloc[indices[start : start + batch_size]], device=device, **kwargs)\n",
        "            yield batch\n",
        "\n",
        "        if not cycle: break"
      ]
    },
    {
      "cell_type": "markdown",
      "metadata": {
        "id": "N91lVd2Ixmtn"
      },
      "source": [
        "### Model training\n",
        "\n",
        "We can now fit our model the usual minibatch way. The interesting part is that we train on an infinite stream of minibatches, produced by `iterate_minibatches` function."
      ]
    },
    {
      "cell_type": "code",
      "execution_count": null,
      "metadata": {
        "id": "3u0Goxykxmto"
      },
      "outputs": [],
      "source": [
        "from tqdm.auto import tqdm\n",
        "\n",
        "BATCH_SIZE = 16\n",
        "EPOCHS = 5"
      ]
    },
    {
      "cell_type": "code",
      "execution_count": null,
      "metadata": {
        "id": "9biBmifPxmto"
      },
      "outputs": [],
      "source": [
        "def print_metrics(model, data, batch_size=BATCH_SIZE, name=\"\", device=torch.device('cpu'), **kw):\n",
        "    squared_error = abs_error = num_samples = 0.0\n",
        "    model.eval()\n",
        "    with torch.no_grad():\n",
        "        for batch in iterate_minibatches(data, batch_size=batch_size, shuffle=False, device=device, **kw):\n",
        "            batch_pred = model(batch)\n",
        "            squared_error += torch.sum(torch.square(batch_pred - batch[target_column]))\n",
        "            abs_error += torch.sum(torch.abs(batch_pred - batch[target_column]))\n",
        "            num_samples += len(batch_pred)\n",
        "    mse = squared_error.detach().cpu().numpy() / num_samples\n",
        "    mae = abs_error.detach().cpu().numpy() / num_samples\n",
        "    print(\"%s results:\" % (name or \"\"))\n",
        "    print(\"Mean square error: %.5f\" % mse)\n",
        "    print(\"Mean absolute error: %.5f\" % mae)\n",
        "    return mse, mae\n"
      ]
    },
    {
      "cell_type": "code",
      "execution_count": null,
      "metadata": {
        "id": "KWyKaNLYxmto",
        "outputId": "0c0a3fe8-071e-40a1-9701-bcd8033a7271",
        "colab": {
          "base_uri": "https://localhost:8080/",
          "height": 524,
          "referenced_widgets": [
            "b0c6899695264331a68a8031ba6709f5",
            "83e875fbf5e64172aa3f26de6757f8c3",
            "3541960f9a694a7eb81c875f716e1298",
            "81cdacd71faa4f54ab7e56244a204e96",
            "5f8dfa9648d048a58f132d33efc6ff54",
            "03fc6d9a2d894437aee47e92581c0439",
            "adebd7d972b34472a6dac6299a502a1d",
            "198af7e223064fcfae023b04ff17764a",
            "4eac6041d9a649f2975ca1167d5e4cf6",
            "86353a89048847c6928d33f6791d53b2",
            "970a81c3cc0049c5a47f3c4baef50ee8",
            "c1476d645721405ebcdba7008fef907b",
            "ff00819cd5ae401cb8aecddb125a4ed7",
            "79919484cc1a43b79270fe0c0e44c2fd",
            "50cc7da23d1d4e12ad063191af20e243",
            "859b967881c24bd989a222405cea5b9c",
            "642b775b77ac46949b97f5b8574604d8",
            "af0fa7cd9d6b45c486b7a4361b122332",
            "267b97da08f04792a911da5bb0d2c613",
            "6a7f054a35e84beabd4e236121da9b27",
            "c7bc2eab40774051acd939ad2ef6b24e",
            "eafd730d006247319806247a9bffd081",
            "0b34a57995434d29a3773dfb9ecd156c",
            "776b41a4feb04e248f023753b122b400",
            "a18c5a5c960740b187dc1f80d6648744",
            "e19214dd344240d7abd9a7e4308531c4",
            "65ac547b4fde4414806c8405f78d8b56",
            "912609e2c4bf48389cdd7ec1bc94ecc2",
            "eb510a3682844e4d8213ca8c5c18da25",
            "bbdcadab415448289d61fb73bf894c91",
            "bb15b96d730a4b90a6365032a7e6cd7a",
            "1884e7f751584a38b06aa099f3c79275",
            "89c65c7328434e8eafe06944a9d634ed",
            "ad7a7eb67732424f994a3868d36c4f1e",
            "7fd1ee7139b54355bbc7e2f2be28c48d",
            "2709a109f78a441a910a1ecb1d9f6465",
            "cbc979a0566c4cbb990ba2d6c242d6a1",
            "f87010067c574ea187d136fb0d1b25e9",
            "4de22062285343e682d85c006b258722",
            "fddcb4b5eaa84ed893b7018e5614bc1e",
            "aa098caa9fdc4af4bf19577b4b9b4a0f",
            "308cea3b47ad43ee9270746ca8a2bc17",
            "4e576c674d184158957dddb5489d1e03",
            "30f7c683471b415cb22413a4024ffe94",
            "21bd42c670b44b739a0c0e9aab63e5e2",
            "9ce549b6fe7a4b058c64d0b2690bfe88",
            "9b8ecc9362d14521853b0a2f137c6cb7",
            "420666f5f82b487cb4073fb07a2e7839",
            "c5bfe7ebd27c49aa9688cba268ff5fe5",
            "2f8a375beacf4234a15ac72b2fd02c36",
            "33d411fc53504eb4931f1d9887bcc399",
            "1a240aeebc504e8d82827063f18b6689",
            "3238c6eeb01740f5ba7c58a6ed4b7723",
            "64a28aff7db94353b1b4dd8b7296dc72",
            "e4917652a0184f5a98fd64f42818234d"
          ]
        }
      },
      "outputs": [
        {
          "output_type": "stream",
          "name": "stdout",
          "text": [
            "epoch: 0\n"
          ]
        },
        {
          "output_type": "display_data",
          "data": {
            "text/plain": [
              "  0%|          | 0/12238 [00:00<?, ?it/s]"
            ],
            "application/vnd.jupyter.widget-view+json": {
              "version_major": 2,
              "version_minor": 0,
              "model_id": "b0c6899695264331a68a8031ba6709f5"
            }
          },
          "metadata": {}
        },
        {
          "output_type": "stream",
          "name": "stdout",
          "text": [
            " results:\n",
            "Mean square error: 0.14569\n",
            "Mean absolute error: 0.29543\n",
            "epoch: 1\n"
          ]
        },
        {
          "output_type": "display_data",
          "data": {
            "text/plain": [
              "  0%|          | 0/12238 [00:00<?, ?it/s]"
            ],
            "application/vnd.jupyter.widget-view+json": {
              "version_major": 2,
              "version_minor": 0,
              "model_id": "c1476d645721405ebcdba7008fef907b"
            }
          },
          "metadata": {}
        },
        {
          "output_type": "stream",
          "name": "stdout",
          "text": [
            " results:\n",
            "Mean square error: 0.13044\n",
            "Mean absolute error: 0.27699\n",
            "epoch: 2\n"
          ]
        },
        {
          "output_type": "display_data",
          "data": {
            "text/plain": [
              "  0%|          | 0/12238 [00:00<?, ?it/s]"
            ],
            "application/vnd.jupyter.widget-view+json": {
              "version_major": 2,
              "version_minor": 0,
              "model_id": "0b34a57995434d29a3773dfb9ecd156c"
            }
          },
          "metadata": {}
        },
        {
          "output_type": "stream",
          "name": "stdout",
          "text": [
            " results:\n",
            "Mean square error: 0.13131\n",
            "Mean absolute error: 0.27675\n",
            "epoch: 3\n"
          ]
        },
        {
          "output_type": "display_data",
          "data": {
            "text/plain": [
              "  0%|          | 0/12238 [00:00<?, ?it/s]"
            ],
            "application/vnd.jupyter.widget-view+json": {
              "version_major": 2,
              "version_minor": 0,
              "model_id": "ad7a7eb67732424f994a3868d36c4f1e"
            }
          },
          "metadata": {}
        },
        {
          "output_type": "stream",
          "name": "stdout",
          "text": [
            " results:\n",
            "Mean square error: 0.11841\n",
            "Mean absolute error: 0.26255\n",
            "epoch: 4\n"
          ]
        },
        {
          "output_type": "display_data",
          "data": {
            "text/plain": [
              "  0%|          | 0/12238 [00:00<?, ?it/s]"
            ],
            "application/vnd.jupyter.widget-view+json": {
              "version_major": 2,
              "version_minor": 0,
              "model_id": "21bd42c670b44b739a0c0e9aab63e5e2"
            }
          },
          "metadata": {}
        },
        {
          "output_type": "stream",
          "name": "stdout",
          "text": [
            " results:\n",
            "Mean square error: 0.11254\n",
            "Mean absolute error: 0.25558\n"
          ]
        }
      ],
      "source": [
        "model = SalaryPredictor().to(device)\n",
        "criterion = nn.MSELoss(reduction='sum')\n",
        "optimizer = torch.optim.SGD(model.parameters(), lr=1e-4)\n",
        "\n",
        "for epoch in range(EPOCHS):\n",
        "    print(f\"epoch: {epoch}\")\n",
        "    model.train()\n",
        "    for i, batch in tqdm(enumerate(\n",
        "            iterate_minibatches(data_train, batch_size=BATCH_SIZE, device=device)),\n",
        "            total=len(data_train) // BATCH_SIZE\n",
        "        ):\n",
        "        pred = model(batch)\n",
        "        loss = criterion(pred, batch[target_column])\n",
        "        optimizer.zero_grad()\n",
        "        loss.backward()\n",
        "        optimizer.step()\n",
        "\n",
        "    print_metrics(model, data_val, device=device)"
      ]
    },
    {
      "cell_type": "markdown",
      "metadata": {
        "id": "Bywbxff2xmto"
      },
      "source": [
        "### Bonus part: explaining model predictions\n",
        "\n",
        "It's usually a good idea to understand how your model works before you let it make actual decisions. It's simple for linear models: just see which words learned positive or negative weights. However, its much harder for neural networks that learn complex nonlinear dependencies.\n",
        "\n",
        "There are, however, some ways to look inside the black box:\n",
        "* Seeing how model responds to input perturbations\n",
        "* Finding inputs that maximize/minimize activation of some chosen neurons (_read more [on distill.pub](https://distill.pub/2018/building-blocks/)_)\n",
        "* Building local linear approximations to your neural network: [article](https://arxiv.org/abs/1602.04938), [eli5 library](https://github.com/TeamHG-Memex/eli5/tree/master/eli5/formatters)\n",
        "\n",
        "Today we gonna try the first method just because it's the simplest one."
      ]
    },
    {
      "cell_type": "code",
      "execution_count": null,
      "metadata": {
        "id": "IkggHcQtxmto"
      },
      "outputs": [],
      "source": [
        "def explain(model, sample, col_name='Title'):\n",
        "    \"\"\" Computes the effect each word had on model predictions \"\"\"\n",
        "    sample = dict(sample)\n",
        "    sample_col_tokens = [tokens[token_to_id.get(tok, 0)] for tok in sample[col_name].split()]\n",
        "    data_drop_one_token = pd.DataFrame([sample] * (len(sample_col_tokens) + 1))\n",
        "\n",
        "    for drop_i in range(len(sample_col_tokens)):\n",
        "        data_drop_one_token.loc[drop_i, col_name] = ' '.join(UNK if i == drop_i else tok\n",
        "                                                   for i, tok in enumerate(sample_col_tokens))\n",
        "\n",
        "    *predictions_drop_one_token, baseline_pred = model(make_batch(data_drop_one_token, device=device)).detach().cpu()\n",
        "    diffs = baseline_pred - torch.Tensor(predictions_drop_one_token)\n",
        "    return list(zip(sample_col_tokens, diffs))"
      ]
    },
    {
      "cell_type": "code",
      "execution_count": null,
      "metadata": {
        "id": "Gd2Vjjnhxmtp"
      },
      "outputs": [],
      "source": [
        "from IPython.display import HTML, display_html\n",
        "\n",
        "\n",
        "def draw_html(tokens_and_weights, cmap=plt.get_cmap(\"bwr\"), display=True,\n",
        "              token_template=\"\"\"<span style=\"background-color: {color_hex}\">{token}</span>\"\"\",\n",
        "              font_style=\"font-size:14px;\"\n",
        "             ):\n",
        "\n",
        "    def get_color_hex(weight):\n",
        "        rgba = cmap(1. / (1 + np.exp(float(weight))), bytes=True)\n",
        "        return '#%02X%02X%02X' % rgba[:3]\n",
        "\n",
        "    tokens_html = [\n",
        "        token_template.format(token=token, color_hex=get_color_hex(weight))\n",
        "        for token, weight in tokens_and_weights\n",
        "    ]\n",
        "\n",
        "\n",
        "    raw_html = \"\"\"<p style=\"{}\">{}</p>\"\"\".format(font_style, ' '.join(tokens_html))\n",
        "    if display:\n",
        "        display_html(HTML(raw_html))\n",
        "\n",
        "    return raw_html\n"
      ]
    },
    {
      "cell_type": "code",
      "execution_count": null,
      "metadata": {
        "id": "mxXuZyy1xmtp",
        "outputId": "4b8587eb-2ad1-4449-9e50-6eb1611ed19c",
        "colab": {
          "base_uri": "https://localhost:8080/",
          "height": 216
        }
      },
      "outputs": [
        {
          "output_type": "display_data",
          "data": {
            "text/html": [
              "<p style=\"font-size:20px;\"><span style=\"background-color: #EEEEFF\">sales</span> <span style=\"background-color: #8686FF\">specialist</span> <span style=\"background-color: #FF8686\">iv</span> <span style=\"background-color: #FFF2F2\">access</span> <span style=\"background-color: #FFE0E0\">and</span> <span style=\"background-color: #FFDEDE\">infusion</span></p>"
            ]
          },
          "metadata": {}
        },
        {
          "output_type": "display_data",
          "data": {
            "text/html": [
              "<p style=\"font-size:14px;\"><span style=\"background-color: #FEFEFF\">sales</span> <span style=\"background-color: #FFFEFE\">representative</span> <span style=\"background-color: #FFFEFE\">medical</span> <span style=\"background-color: #FFFEFE\">sales</span> <span style=\"background-color: #F8F8FF\">iv</span> <span style=\"background-color: #FFFAFA\">access</span> <span style=\"background-color: #F8F8FF\">and</span> <span style=\"background-color: #FCFCFF\">infusion</span> <span style=\"background-color: #F2F2FF\">an</span> <span style=\"background-color: #FCFCFF\">opportunity</span> <span style=\"background-color: #FFFAFA\">to</span> <span style=\"background-color: #FFF4F4\">work</span> <span style=\"background-color: #F8F8FF\">for</span> <span style=\"background-color: #ECECFF\">the</span> <span style=\"background-color: #F8F8FF\">industry</span> <span style=\"background-color: #F6F6FF\">leading</span> <span style=\"background-color: #FEFEFF\">manufacturer</span> <span style=\"background-color: #F6F6FF\">of</span> <span style=\"background-color: #F8F8FF\">iv</span> <span style=\"background-color: #FFF8F8\">access</span> <span style=\"background-color: #ECECFF\">and</span> <span style=\"background-color: #F8F8FF\">infusion</span> <span style=\"background-color: #F6F6FF\">solutions</span> <span style=\"background-color: #FAFAFF\">.</span> <span style=\"background-color: #FFFCFC\">formally</span> <span style=\"background-color: #FFF4F4\">recognised</span> <span style=\"background-color: #FFF6F6\">as</span> <span style=\"background-color: #F3F3FF\">the</span> <span style=\"background-color: #F2F2FF\">number</span> <span style=\"background-color: #F2F2FF\">****</span> <span style=\"background-color: #FFF6F6\">company</span> <span style=\"background-color: #FFFEFE\">in</span> <span style=\"background-color: #FFFAFA\">this</span> <span style=\"background-color: #FFFEFE\">market</span> <span style=\"background-color: #FEFEFF\">space</span> <span style=\"background-color: #FAFAFF\">,</span> <span style=\"background-color: #FFF8F8\">our</span> <span style=\"background-color: #FAFAFF\">client</span> <span style=\"background-color: #FFFAFA\">are</span> <span style=\"background-color: #F3F3FF\">an</span> <span style=\"background-color: #ECECFF\">ethical</span> <span style=\"background-color: #F6F6FF\">and</span> <span style=\"background-color: #F0F0FF\">dynamic</span> <span style=\"background-color: #FEFEFF\">organisation</span> <span style=\"background-color: #F2F2FF\">absolutely</span> <span style=\"background-color: #FFFCFC\">committed</span> <span style=\"background-color: #FFEAEA\">to</span> <span style=\"background-color: #F8F8FF\">the</span> <span style=\"background-color: #FCFCFF\">advancement</span> <span style=\"background-color: #FEFEFF\">of</span> <span style=\"background-color: #FFF0F0\">innovative</span> <span style=\"background-color: #F6F6FF\">technologies</span> <span style=\"background-color: #FEFEFF\">.</span> <span style=\"background-color: #FFF4F4\">job</span> <span style=\"background-color: #F6F6FF\">title</span> <span style=\"background-color: #FFFEFE\">:</span> <span style=\"background-color: #F8F8FF\">sales</span> <span style=\"background-color: #FFFEFE\">specialist</span> <span style=\"background-color: #FCFCFF\">iv</span> <span style=\"background-color: #FFF8F8\">access</span> <span style=\"background-color: #EEEEFF\">and</span> <span style=\"background-color: #FAFAFF\">infusion</span> <span style=\"background-color: #F2F2FF\">selling</span> <span style=\"background-color: #FFFEFE\">:</span> <span style=\"background-color: #FFFCFC\">medication</span> <span style=\"background-color: #F2F2FF\">delivery</span> <span style=\"background-color: #FEFEFF\">solutions</span> <span style=\"background-color: #F0F0FF\">selling</span> <span style=\"background-color: #FFFCFC\">to</span> <span style=\"background-color: #FAFAFF\">:</span> <span style=\"background-color: #FEFEFF\">iv</span> <span style=\"background-color: #F8F8FF\">teams</span> <span style=\"background-color: #EAEAFF\">,</span> <span style=\"background-color: #F6F6FF\">infection</span> <span style=\"background-color: #F8F8FF\">control</span> <span style=\"background-color: #FEFEFF\">,</span> <span style=\"background-color: #FAFAFF\">lead</span> <span style=\"background-color: #FFFAFA\">intensive</span> <span style=\"background-color: #FCFCFF\">care</span> <span style=\"background-color: #FFF8F8\">nurse</span> <span style=\"background-color: #FFECEC\">specialists</span> <span style=\"background-color: #FAFAFF\">,</span> <span style=\"background-color: #FFF8F8\">ward</span> <span style=\"background-color: #FFFAFA\">managers</span> <span style=\"background-color: #FFEAEA\">territory</span> <span style=\"background-color: #FCFCFF\">:</span> <span style=\"background-color: #F6F6FF\">east</span> <span style=\"background-color: #FFFCFC\">midlands</span> <span style=\"background-color: #F6F6FF\">location</span> <span style=\"background-color: #F6F6FF\">:</span> <span style=\"background-color: #FEFEFF\">east</span> <span style=\"background-color: #FFF8F8\">midlands</span> <span style=\"background-color: #FCFCFF\">package</span> <span style=\"background-color: #F8F8FF\">:</span> <span style=\"background-color: #FEFEFF\">basic</span> <span style=\"background-color: #FCFCFF\">:</span> <span style=\"background-color: #F6F6FF\">****</span> <span style=\"background-color: #FFFAFA\">k</span> <span style=\"background-color: #EEEEFF\">****</span> <span style=\"background-color: #FFFEFE\">k</span> <span style=\"background-color: #F6F6FF\">,</span> <span style=\"background-color: #FFFCFC\">uncapped</span> <span style=\"background-color: #E2E2FF\">bonus</span> <span style=\"background-color: #F6F6FF\">in</span> <span style=\"background-color: #F3F3FF\">addition</span> <span style=\"background-color: #FAFAFF\">,</span> <span style=\"background-color: #F8F8FF\">full</span> <span style=\"background-color: #FFF8F8\">corporate</span> <span style=\"background-color: #EAEAFF\">benefits</span> <span style=\"background-color: #FFFCFC\">company</span> <span style=\"background-color: #FAFAFF\">information</span> <span style=\"background-color: #FFFCFC\">hugely</span> <span style=\"background-color: #FCFCFF\">ethical</span> <span style=\"background-color: #FCFCFF\">and</span> <span style=\"background-color: #FFF6F6\">professional</span> <span style=\"background-color: #FAFAFF\">global</span> <span style=\"background-color: #FFFEFE\">organisation</span> <span style=\"background-color: #FFFCFC\">extremely</span> <span style=\"background-color: #F8F8FF\">well</span> <span style=\"background-color: #FFF4F4\">established</span> <span style=\"background-color: #F0F0FF\">in</span> <span style=\"background-color: #EEEEFF\">the</span> <span style=\"background-color: #FFFEFE\">uk</span> <span style=\"background-color: #EEEEFF\">the</span> <span style=\"background-color: #FAFAFF\">market</span> <span style=\"background-color: #FEFEFF\">leader</span> <span style=\"background-color: #F8F8FF\">across</span> <span style=\"background-color: #FFFEFE\">all</span> <span style=\"background-color: #FCFCFF\">of</span> <span style=\"background-color: #FFFCFC\">their</span> <span style=\"background-color: #EEEEFF\">core</span> <span style=\"background-color: #E0E0FF\">business</span> <span style=\"background-color: #F8F8FF\">areas</span> <span style=\"background-color: #FEFEFF\">focus</span> <span style=\"background-color: #FAFAFF\">on</span> <span style=\"background-color: #F8F8FF\">providing</span> <span style=\"background-color: #FFFEFE\">cutting</span> <span style=\"background-color: #F6F6FF\">edge</span> <span style=\"background-color: #FAFAFF\">solutions</span> <span style=\"background-color: #FFFEFE\">along</span> <span style=\"background-color: #FAFAFF\">with</span> <span style=\"background-color: #FFF8F8\">outstanding</span> <span style=\"background-color: #FFF0F0\">service</span> <span style=\"background-color: #F6F6FF\">and</span> <span style=\"background-color: #FFFEFE\">support</span> <span style=\"background-color: #FFFCFC\">a</span> <span style=\"background-color: #ECECFF\">business</span> <span style=\"background-color: #FEFEFF\">that</span> <span style=\"background-color: #F2F2FF\">retain</span> <span style=\"background-color: #F8F8FF\">talented</span> <span style=\"background-color: #F8F8FF\">personnel</span> <span style=\"background-color: #FCFCFF\">by</span> <span style=\"background-color: #F6F6FF\">offering</span> <span style=\"background-color: #FFF4F4\">a</span> <span style=\"background-color: #F0F0FF\">strong</span> <span style=\"background-color: #FAFAFF\">platform</span> <span style=\"background-color: #F0F0FF\">for</span> <span style=\"background-color: #FFF8F8\">career</span> <span style=\"background-color: #F0F0FF\">development</span> <span style=\"background-color: #FFFEFE\">sales</span> <span style=\"background-color: #EEEEFF\">specialist</span> <span style=\"background-color: #FCFCFF\">iv</span> <span style=\"background-color: #FAFAFF\">access</span> <span style=\"background-color: #F6F6FF\">and</span> <span style=\"background-color: #F2F2FF\">infusion</span> <span style=\"background-color: #FCFCFF\">you</span> <span style=\"background-color: #FAFAFF\">must</span> <span style=\"background-color: #FFFCFC\">have</span> <span style=\"background-color: #F8F8FF\">/</span> <span style=\"background-color: #FFF8F8\">be</span> <span style=\"background-color: #ECECFF\">the</span> <span style=\"background-color: #FFF8F8\">following</span> <span style=\"background-color: #FCFCFF\">at</span> <span style=\"background-color: #F6F6FF\">least</span> <span style=\"background-color: #FFFAFA\">2</span> <span style=\"background-color: #F3F3FF\">years</span> <span style=\"background-color: #FEFEFF\">medical</span> <span style=\"background-color: #FFFAFA\">device</span> <span style=\"background-color: #F6F6FF\">sales</span> <span style=\"background-color: #FAFAFF\">experience</span> <span style=\"background-color: #FEFEFF\">.</span> <span style=\"background-color: #FAFAFF\">candidates</span> <span style=\"background-color: #F8F8FF\">who</span> <span style=\"background-color: #FFFCFC\">have</span> <span style=\"background-color: #FEFEFF\">sold</span> <span style=\"background-color: #FFF6F6\">disposables</span> <span style=\"background-color: #F3F3FF\">/</span> <span style=\"background-color: #FCFCFF\">consumables</span> <span style=\"background-color: #F0F0FF\">or</span> <span style=\"background-color: #F8F8FF\">similar</span> <span style=\"background-color: #FEFEFF\">into</span> <span style=\"background-color: #FFFCFC\">hospitals</span> <span style=\"background-color: #E8E8FF\">would</span> <span style=\"background-color: #FFFCFC\">be</span> <span style=\"background-color: #F6F6FF\">of</span> <span style=\"background-color: #FFF8F8\">particular</span> <span style=\"background-color: #F6F6FF\">interest</span> <span style=\"background-color: #FFF8F8\">.</span> <span style=\"background-color: #FAFAFF\">candidates</span> <span style=\"background-color: #F6F6FF\">must</span> <span style=\"background-color: #FFF6F6\">have</span> <span style=\"background-color: #FAFAFF\">sold</span> <span style=\"background-color: #F8F8FF\">into</span> <span style=\"background-color: #FAFAFF\">hospitals</span> <span style=\"background-color: #FAFAFF\">demonstrable</span> <span style=\"background-color: #FCFCFF\">performance</span> <span style=\"background-color: #F3F3FF\">and</span> <span style=\"background-color: #F3F3FF\">achievements</span> <span style=\"background-color: #E8E8FF\">so</span> <span style=\"background-color: #FFFCFC\">far</span> <span style=\"background-color: #FEFEFF\">personable</span> <span style=\"background-color: #FFFAFA\">,</span> <span style=\"background-color: #FCFCFF\">adaptable</span> <span style=\"background-color: #F6F6FF\">and</span> <span style=\"background-color: #FFFCFC\">willing</span> <span style=\"background-color: #FFEEEE\">to</span> <span style=\"background-color: #EEEEFF\">learn</span> <span style=\"background-color: #FFFCFC\">keen</span> <span style=\"background-color: #FEFEFF\">and</span> <span style=\"background-color: #F8F8FF\">eager</span> <span style=\"background-color: #FFF2F2\">to</span> <span style=\"background-color: #FFF4F4\">be</span> <span style=\"background-color: #FCFCFF\">a</span> <span style=\"background-color: #FFF6F6\">success</span> <span style=\"background-color: #FAFAFF\">candidates</span> <span style=\"background-color: #FFFEFE\">must</span> <span style=\"background-color: #FFF2F2\">have</span> <span style=\"background-color: #FFF8F8\">a</span> <span style=\"background-color: #FFF0F0\">degree</span> <span style=\"background-color: #FAFAFF\">or</span> <span style=\"background-color: #FFFEFE\">at</span> <span style=\"background-color: #FEFEFF\">least</span> <span style=\"background-color: #FFFAFA\">be</span> <span style=\"background-color: #FEFEFF\">able</span> <span style=\"background-color: #FFEEEE\">to</span> <span style=\"background-color: #FFF6F6\">show</span> <span style=\"background-color: #FAFAFF\">a</span> <span style=\"background-color: #F8F8FF\">strong</span> <span style=\"background-color: #F0F0FF\">ability</span> <span style=\"background-color: #FFF2F2\">to</span> <span style=\"background-color: #F0F0FF\">learn</span> <span style=\"background-color: #F8F8FF\">role</span> <span style=\"background-color: #FCFCFF\">information</span> <span style=\"background-color: #FFFEFE\">managing</span> <span style=\"background-color: #F3F3FF\">the</span> <span style=\"background-color: #F8F8FF\">east</span> <span style=\"background-color: #FFFEFE\">midlands</span> <span style=\"background-color: #FEFEFF\">region</span> <span style=\"background-color: #FEFEFF\">selling</span> <span style=\"background-color: #FFFCFC\">across</span> <span style=\"background-color: #EEEEFF\">the</span> <span style=\"background-color: #FFFEFE\">company</span> <span style=\"background-color: #FCFCFF\">'</span> <span style=\"background-color: #F3F3FF\">s</span> <span style=\"background-color: #F6F6FF\">range</span> <span style=\"background-color: #F0F0FF\">of</span> <span style=\"background-color: #FCFCFF\">iv</span> <span style=\"background-color: #F8F8FF\">and</span> <span style=\"background-color: #F2F2FF\">infusion</span> <span style=\"background-color: #FCFCFF\">solutions</span> <span style=\"background-color: #F2F2FF\">portfolio</span> <span style=\"background-color: #F8F8FF\">selling</span> <span style=\"background-color: #FFF6F6\">into</span> <span style=\"background-color: #F8F8FF\">lead</span> <span style=\"background-color: #F3F3FF\">intensive</span> <span style=\"background-color: #FFF4F4\">care</span> <span style=\"background-color: #FCFCFF\">nurse</span> <span style=\"background-color: #FFF8F8\">specialists</span> <span style=\"background-color: #FFFEFE\">,</span> <span style=\"background-color: #FFF8F8\">ward</span> <span style=\"background-color: #FEFEFF\">managers</span> <span style=\"background-color: #FAFAFF\">,</span> <span style=\"background-color: #FAFAFF\">iv</span> <span style=\"background-color: #F8F8FF\">teams</span> <span style=\"background-color: #EEEEFF\">,</span> <span style=\"background-color: #F6F6FF\">infection</span> <span style=\"background-color: #FFFEFE\">control</span> <span style=\"background-color: #F8F8FF\">teams</span> <span style=\"background-color: #FCFCFF\">,</span> <span style=\"background-color: #E6E6FF\">procurement</span> <span style=\"background-color: #F3F3FF\">sales</span> <span style=\"background-color: #FFFEFE\">specialist</span> <span style=\"background-color: #F8F8FF\">iv</span> <span style=\"background-color: #FFFAFA\">access</span> <span style=\"background-color: #EEEEFF\">and</span> <span style=\"background-color: #FEFEFF\">infusion</span> <span style=\"background-color: #FEFEFF\">candidates</span> <span style=\"background-color: #FCFCFF\">must</span> <span style=\"background-color: #FFFCFC\">be</span> <span style=\"background-color: #FEFEFF\">eligible</span> <span style=\"background-color: #FFF4F4\">to</span> <span style=\"background-color: #FFF2F2\">work</span> <span style=\"background-color: #F2F2FF\">and</span> <span style=\"background-color: #FEFEFF\">live</span> <span style=\"background-color: #FAFAFF\">in</span> <span style=\"background-color: #EEEEFF\">the</span> <span style=\"background-color: #F3F3FF\">uk</span> <span style=\"background-color: #FFFEFE\">.</span> <span style=\"background-color: #F3F3FF\">please</span> <span style=\"background-color: #F6F6FF\">contact</span> <span style=\"background-color: #E6E6FF\">allan</span> <span style=\"background-color: #F6F6FF\">waller</span> <span style=\"background-color: #FEFEFF\">on</span> <span style=\"background-color: #F8F8FF\">****</span> <span style=\"background-color: #FCFCFF\">****</span> <span style=\"background-color: #FCFCFF\">****</span> <span style=\"background-color: #EEEEFF\">or</span> <span style=\"background-color: #F3F3FF\">please</span> <span style=\"background-color: #FFECEC\">hit</span> <span style=\"background-color: #F0F0FF\">the</span> <span style=\"background-color: #F2F2FF\">apply</span> <span style=\"background-color: #E6E6FF\">button</span> <span style=\"background-color: #FAFAFF\">.</span> <span style=\"background-color: #FEFEFF\">this</span> <span style=\"background-color: #FFFAFA\">job</span> <span style=\"background-color: #FFF8F8\">was</span> <span style=\"background-color: #F6F6FF\">originally</span> <span style=\"background-color: #FFF4F4\">posted</span> <span style=\"background-color: #FFF0F0\">as</span> <span style=\"background-color: #FEFEFF\">www</span> <span style=\"background-color: #FFFEFE\">.</span> <span style=\"background-color: #FFFCFC\">salestarget</span> <span style=\"background-color: #FFFEFE\">.</span> <span style=\"background-color: #FFFEFE\">co</span> <span style=\"background-color: #FFF8F8\">.</span> <span style=\"background-color: #FFFCFC\">uk</span> <span style=\"background-color: #F6F6FF\">/</span> <span style=\"background-color: #FCFCFF\">jobseeking</span> <span style=\"background-color: #FEFEFF\">/</span> <span style=\"background-color: #FFFEFE\">UNK</span> <span style=\"background-color: #FFFEFE\">****</span></p>"
            ]
          },
          "metadata": {}
        }
      ],
      "source": [
        "i = 36605\n",
        "tokens_and_weights = explain(model, data.loc[i], \"Title\")\n",
        "draw_html([(tok, weight * 5) for tok, weight in tokens_and_weights], font_style='font-size:20px;');\n",
        "\n",
        "tokens_and_weights = explain(model, data.loc[i], \"FullDescription\")\n",
        "draw_html([(tok, weight * 10) for tok, weight in tokens_and_weights]);"
      ]
    },
    {
      "cell_type": "code",
      "execution_count": null,
      "metadata": {
        "id": "I9Bb6rEMxmtp",
        "outputId": "96841348-3a8d-41eb-8e25-d1e42cf588ec",
        "colab": {
          "base_uri": "https://localhost:8080/",
          "height": 95
        }
      },
      "outputs": [
        {
          "output_type": "display_data",
          "data": {
            "text/html": [
              "<p style=\"font-size:20px;\"><span style=\"background-color: #FFE8E8\">cleaning</span> <span style=\"background-color: #FF2929\">operative</span></p>"
            ]
          },
          "metadata": {}
        },
        {
          "output_type": "display_data",
          "data": {
            "text/html": [
              "<p style=\"font-size:14px;\"><span style=\"background-color: #FFF6F6\">12</span> <span style=\"background-color: #FCFCFF\">.</span> <span style=\"background-color: #FEFEFF\">5</span> <span style=\"background-color: #FFF0F0\">hours</span> <span style=\"background-color: #FFFAFA\">per</span> <span style=\"background-color: #FFDADA\">week</span> <span style=\"background-color: #FFD8D8\">monday</span> <span style=\"background-color: #FFD3D3\">friday</span> <span style=\"background-color: #FFEAEA\">9am</span> <span style=\"background-color: #D3D3FF\">11</span> <span style=\"background-color: #EAEAFF\">.</span> <span style=\"background-color: #FFE8E8\">30am</span> <span style=\"background-color: #DCDCFF\">duties</span> <span style=\"background-color: #FFCACA\">to</span> <span style=\"background-color: #F8F8FF\">include</span> <span style=\"background-color: #FAFAFF\">sweeping</span> <span style=\"background-color: #DADAFF\">,</span> <span style=\"background-color: #FFE4E4\">mopping</span> <span style=\"background-color: #CECEFF\">,</span> <span style=\"background-color: #FFE0E0\">vacuuming</span> <span style=\"background-color: #E8E8FF\">,</span> <span style=\"background-color: #E2E2FF\">buffing</span> <span style=\"background-color: #F3F3FF\">,</span> <span style=\"background-color: #FFE8E8\">cleaning</span> <span style=\"background-color: #FFDCDC\">staff</span> <span style=\"background-color: #FFF6F6\">toilets</span> <span style=\"background-color: #DEDEFF\">and</span> <span style=\"background-color: #FFF8F8\">rest</span> <span style=\"background-color: #B8B8FF\">room</span> <span style=\"background-color: #EAEAFF\">.</span> <span style=\"background-color: #E3E3FF\">must</span> <span style=\"background-color: #FFC8C8\">be</span> <span style=\"background-color: #FFEAEA\">able</span> <span style=\"background-color: #FFDADA\">to</span> <span style=\"background-color: #ACACFF\">read</span> <span style=\"background-color: #FFD2D2\">as</span> <span style=\"background-color: #DCDCFF\">they</span> <span style=\"background-color: #ECECFF\">will</span> <span style=\"background-color: #F0F0FF\">be</span> <span style=\"background-color: #FFCECE\">using</span> <span style=\"background-color: #FFFEFE\">UNK</span> <span style=\"background-color: #FFEAEA\">which</span> <span style=\"background-color: #EEEEFF\">need</span> <span style=\"background-color: #FFFEFE\">UNK</span> <span style=\"background-color: #FFDCDC\">as</span> <span style=\"background-color: #FFD6D6\">per</span> <span style=\"background-color: #FFAEAE\">instructions</span> <span style=\"background-color: #F2F2FF\">on</span> <span style=\"background-color: #B2B2FF\">the</span> <span style=\"background-color: #FAFAFF\">containers</span> <span style=\"background-color: #E3E3FF\">.</span> <span style=\"background-color: #E0E0FF\">sucessfull</span> <span style=\"background-color: #FFACAC\">applicants</span> <span style=\"background-color: #FFF6F6\">will</span> <span style=\"background-color: #F6F6FF\">be</span> <span style=\"background-color: #E6E6FF\">trained</span> <span style=\"background-color: #E0E0FF\">on</span> <span style=\"background-color: #E3E3FF\">all</span> <span style=\"background-color: #FFC0C0\">electrical</span> <span style=\"background-color: #FFE4E4\">appliances</span> <span style=\"background-color: #FCFCFF\">and</span> <span style=\"background-color: #FFFEFE\">UNK</span> <span style=\"background-color: #EEEEFF\">of</span> <span style=\"background-color: #FFF8F8\">cleaning</span> <span style=\"background-color: #FFF4F4\">materials</span> <span style=\"background-color: #FFFEFE\">.</span></p>"
            ]
          },
          "metadata": {}
        }
      ],
      "source": [
        "i = 12077\n",
        "tokens_and_weights = explain(model, data.loc[i], \"Title\")\n",
        "draw_html([(tok, weight * 5) for tok, weight in tokens_and_weights], font_style='font-size:20px;');\n",
        "\n",
        "tokens_and_weights = explain(model, data.loc[i], \"FullDescription\")\n",
        "draw_html([(tok, weight * 10) for tok, weight in tokens_and_weights]);"
      ]
    },
    {
      "cell_type": "code",
      "execution_count": null,
      "metadata": {
        "id": "C-vu8i8Cxmtp",
        "outputId": "e0ce1312-d066-4798-b0ad-e26c1b229fbc",
        "colab": {
          "base_uri": "https://localhost:8080/",
          "height": 285
        }
      },
      "outputs": [
        {
          "output_type": "stream",
          "name": "stdout",
          "text": [
            "Index: 155909\n",
            "Salary (gbp): tensor(39450.0938)\n"
          ]
        },
        {
          "output_type": "stream",
          "name": "stderr",
          "text": [
            "<ipython-input-235-a3686a810212>:3: DeprecationWarning: __array_wrap__ must accept context and return_scalar arguments (positionally) in the future. (Deprecated NumPy 2.0)\n",
            "  print(\"Salary (gbp):\", np.expm1(model(make_batch(data.iloc[i: i+1], device=device)).detach().cpu()))\n"
          ]
        },
        {
          "output_type": "display_data",
          "data": {
            "text/html": [
              "<p style=\"font-size:20px;\"><span style=\"background-color: #FFE0E0\">principle</span> <span style=\"background-color: #8E8EFF\">planner</span></p>"
            ]
          },
          "metadata": {}
        },
        {
          "output_type": "display_data",
          "data": {
            "text/html": [
              "<p style=\"font-size:14px;\"><span style=\"background-color: #FEFEFF\">principle</span> <span style=\"background-color: #FFFEFE\">planner</span> <span style=\"background-color: #FEFEFF\">london</span> <span style=\"background-color: #FCFCFF\">my</span> <span style=\"background-color: #F2F2FF\">client</span> <span style=\"background-color: #FFFCFC\">is</span> <span style=\"background-color: #FAFAFF\">one</span> <span style=\"background-color: #FFFCFC\">of</span> <span style=\"background-color: #F2F2FF\">the</span> <span style=\"background-color: #FCFCFF\">uk</span> <span style=\"background-color: #FFFAFA\">’</span> <span style=\"background-color: #FEFEFF\">s</span> <span style=\"background-color: #FEFEFF\">largest</span> <span style=\"background-color: #FFFCFC\">,</span> <span style=\"background-color: #FFF2F2\">multifaceted</span> <span style=\"background-color: #FCFCFF\">consultancies</span> <span style=\"background-color: #FCFCFF\">delivering</span> <span style=\"background-color: #FFFEFE\">property</span> <span style=\"background-color: #FCFCFF\">and</span> <span style=\"background-color: #FFFCFC\">infrastructure</span> <span style=\"background-color: #F0F0FF\">projects</span> <span style=\"background-color: #FFF6F6\">on</span> <span style=\"background-color: #FFFEFE\">a</span> <span style=\"background-color: #FFF6F6\">local</span> <span style=\"background-color: #F6F6FF\">,</span> <span style=\"background-color: #FFFCFC\">national</span> <span style=\"background-color: #F6F6FF\">and</span> <span style=\"background-color: #FCFCFF\">international</span> <span style=\"background-color: #FFF6F6\">scale</span> <span style=\"background-color: #FFFAFA\">.</span> <span style=\"background-color: #FFF8F8\">their</span> <span style=\"background-color: #FFF0F0\">overall</span> <span style=\"background-color: #FFF6F6\">planning</span> <span style=\"background-color: #FFFAFA\">scheduling</span> <span style=\"background-color: #F3F3FF\">team</span> <span style=\"background-color: #FEFEFF\">numbers</span> <span style=\"background-color: #FEFEFF\">nearly</span> <span style=\"background-color: #FCFCFF\">****</span> <span style=\"background-color: #FCFCFF\">and</span> <span style=\"background-color: #FFF4F4\">is</span> <span style=\"background-color: #FEFEFF\">spread</span> <span style=\"background-color: #FFFCFC\">throughout</span> <span style=\"background-color: #ECECFF\">the</span> <span style=\"background-color: #FAFAFF\">uk</span> <span style=\"background-color: #F0F0FF\">in</span> <span style=\"background-color: #FFFCFC\">their</span> <span style=\"background-color: #FAFAFF\">manchester</span> <span style=\"background-color: #FCFCFF\">,</span> <span style=\"background-color: #F3F3FF\">birmingham</span> <span style=\"background-color: #FCFCFF\">,</span> <span style=\"background-color: #EAEAFF\">sheffield</span> <span style=\"background-color: #FCFCFF\">,</span> <span style=\"background-color: #F2F2FF\">bristol</span> <span style=\"background-color: #FFFEFE\">,</span> <span style=\"background-color: #FFFCFC\">blackburn</span> <span style=\"background-color: #FCFCFF\">and</span> <span style=\"background-color: #FFF2F2\">london</span> <span style=\"background-color: #FFFCFC\">offices</span> <span style=\"background-color: #FFFEFE\">.</span> <span style=\"background-color: #FEFEFF\">due</span> <span style=\"background-color: #FFF4F4\">to</span> <span style=\"background-color: #F2F2FF\">several</span> <span style=\"background-color: #F6F6FF\">major</span> <span style=\"background-color: #FFF8F8\">framework</span> <span style=\"background-color: #FFF8F8\">appointments</span> <span style=\"background-color: #FAFAFF\">my</span> <span style=\"background-color: #ECECFF\">client</span> <span style=\"background-color: #FFFAFA\">is</span> <span style=\"background-color: #FFF4F4\">looking</span> <span style=\"background-color: #FFECEC\">to</span> <span style=\"background-color: #F6F6FF\">grow</span> <span style=\"background-color: #F0F0FF\">the</span> <span style=\"background-color: #FFF6F6\">planning</span> <span style=\"background-color: #ECECFF\">services</span> <span style=\"background-color: #F0F0FF\">team</span> <span style=\"background-color: #FFFEFE\">considerably</span> <span style=\"background-color: #FFFCFC\">over</span> <span style=\"background-color: #F0F0FF\">the</span> <span style=\"background-color: #FFFCFC\">coming</span> <span style=\"background-color: #FFF8F8\">year</span> <span style=\"background-color: #FAFAFF\">and</span> <span style=\"background-color: #FFFEFE\">can</span> <span style=\"background-color: #FFF6F6\">offer</span> <span style=\"background-color: #F3F3FF\">excellent</span> <span style=\"background-color: #FFFEFE\">opportunities</span> <span style=\"background-color: #FEFEFF\">for</span> <span style=\"background-color: #FFFAFA\">career</span> <span style=\"background-color: #FAFAFF\">development</span> <span style=\"background-color: #EEEEFF\">for</span> <span style=\"background-color: #FFF8F8\">all</span> <span style=\"background-color: #FFFCFC\">successful</span> <span style=\"background-color: #FFF8F8\">applicants</span> <span style=\"background-color: #FAFAFF\">.</span> <span style=\"background-color: #FFFAFA\">there</span> <span style=\"background-color: #FFF6F6\">is</span> <span style=\"background-color: #F6F6FF\">an</span> <span style=\"background-color: #FAFAFF\">open</span> <span style=\"background-color: #FFF0F0\">culture</span> <span style=\"background-color: #F2F2FF\">within</span> <span style=\"background-color: #F0F0FF\">the</span> <span style=\"background-color: #FAFAFF\">team</span> <span style=\"background-color: #F6F6FF\">and</span> <span style=\"background-color: #F8F8FF\">they</span> <span style=\"background-color: #FFF8F8\">expect</span> <span style=\"background-color: #FAFAFF\">successful</span> <span style=\"background-color: #F8F8FF\">candidates</span> <span style=\"background-color: #FFF8F8\">to</span> <span style=\"background-color: #FFFAFA\">be</span> <span style=\"background-color: #F8F8FF\">able</span> <span style=\"background-color: #FFF0F0\">to</span> <span style=\"background-color: #FFFAFA\">work</span> <span style=\"background-color: #FFFEFE\">on</span> <span style=\"background-color: #FFF8F8\">their</span> <span style=\"background-color: #FFF4F4\">own</span> <span style=\"background-color: #F2F2FF\">and</span> <span style=\"background-color: #FFFCFC\">also</span> <span style=\"background-color: #FFF6F6\">to</span> <span style=\"background-color: #F3F3FF\">report</span> <span style=\"background-color: #FFEEEE\">to</span> <span style=\"background-color: #FAFAFF\">directors</span> <span style=\"background-color: #FEFEFF\">on</span> <span style=\"background-color: #F2F2FF\">projects</span> <span style=\"background-color: #FFFEFE\">.</span> <span style=\"background-color: #EAEAFF\">the</span> <span style=\"background-color: #F2F2FF\">principal</span> <span style=\"background-color: #FAFAFF\">planner</span> <span style=\"background-color: #FFFCFC\">role</span> <span style=\"background-color: #FFFCFC\">will</span> <span style=\"background-color: #FFFAFA\">be</span> <span style=\"background-color: #F8F8FF\">within</span> <span style=\"background-color: #F0F0FF\">the</span> <span style=\"background-color: #FFFCFC\">london</span> <span style=\"background-color: #F6F6FF\">based</span> <span style=\"background-color: #FFFAFA\">team</span> <span style=\"background-color: #F3F3FF\">which</span> <span style=\"background-color: #FFF8F8\">is</span> <span style=\"background-color: #FFFAFA\">a</span> <span style=\"background-color: #F8F8FF\">well</span> <span style=\"background-color: #FFF4F4\">established</span> <span style=\"background-color: #FEFEFF\">provider</span> <span style=\"background-color: #EEEEFF\">of</span> <span style=\"background-color: #FFF8F8\">planning</span> <span style=\"background-color: #F2F2FF\">services</span> <span style=\"background-color: #FFF4F4\">to</span> <span style=\"background-color: #F0F0FF\">infrastructure</span> <span style=\"background-color: #FFF0F0\">service</span> <span style=\"background-color: #FFFCFC\">providers</span> <span style=\"background-color: #FFFAFA\">(</span> <span style=\"background-color: #FEFEFF\">such</span> <span style=\"background-color: #FFFAFA\">as</span> <span style=\"background-color: #FFFAFA\">london</span> <span style=\"background-color: #F6F6FF\">underground</span> <span style=\"background-color: #F6F6FF\">and</span> <span style=\"background-color: #F8F8FF\">network</span> <span style=\"background-color: #FFF8F8\">rail</span> <span style=\"background-color: #FFEAEA\">)</span> <span style=\"background-color: #FAFAFF\">in</span> <span style=\"background-color: #F0F0FF\">the</span> <span style=\"background-color: #FEFEFF\">uk</span> <span style=\"background-color: #F3F3FF\">and</span> <span style=\"background-color: #F6F6FF\">overseas</span> <span style=\"background-color: #FCFCFF\">.</span> <span style=\"background-color: #FFEEEE\">personal</span> <span style=\"background-color: #FFFCFC\">attributes</span> <span style=\"background-color: #FFFAFA\">•</span> <span style=\"background-color: #FCFCFF\">team</span> <span style=\"background-color: #FAFAFF\">working</span> <span style=\"background-color: #FFFCFC\">cooperating</span> <span style=\"background-color: #ECECFF\">with</span> <span style=\"background-color: #F3F3FF\">and</span> <span style=\"background-color: #F2F2FF\">respecting</span> <span style=\"background-color: #FAFAFF\">colleagues</span> <span style=\"background-color: #FFF4F4\">to</span> <span style=\"background-color: #FFF6F6\">exceed</span> <span style=\"background-color: #F3F3FF\">the</span> <span style=\"background-color: #FAFAFF\">sum</span> <span style=\"background-color: #F8F8FF\">of</span> <span style=\"background-color: #F2F2FF\">individual</span> <span style=\"background-color: #FFEEEE\">efforts</span> <span style=\"background-color: #FFFAFA\">.</span> <span style=\"background-color: #FEFEFF\">•</span> <span style=\"background-color: #FFFAFA\">customer</span> <span style=\"background-color: #FFF4F4\">service</span> <span style=\"background-color: #FAFAFF\">creating</span> <span style=\"background-color: #F3F3FF\">the</span> <span style=\"background-color: #FFFAFA\">best</span> <span style=\"background-color: #FEFEFF\">possible</span> <span style=\"background-color: #FFFAFA\">experience</span> <span style=\"background-color: #F8F8FF\">for</span> <span style=\"background-color: #FAFAFF\">capita</span> <span style=\"background-color: #FEFEFF\">clients</span> <span style=\"background-color: #FEFEFF\">and</span> <span style=\"background-color: #FFF4F4\">their</span> <span style=\"background-color: #FFFCFC\">customers</span> <span style=\"background-color: #FFFEFE\">.</span> <span style=\"background-color: #FCFCFF\">•</span> <span style=\"background-color: #EEEEFF\">communication</span> <span style=\"background-color: #ECECFF\">the</span> <span style=\"background-color: #EEEEFF\">ability</span> <span style=\"background-color: #FFEEEE\">to</span> <span style=\"background-color: #FFFAFA\">listen</span> <span style=\"background-color: #FEFEFF\">,</span> <span style=\"background-color: #F6F6FF\">express</span> <span style=\"background-color: #FCFCFF\">and</span> <span style=\"background-color: #F6F6FF\">articulate</span> <span style=\"background-color: #F6F6FF\">information</span> <span style=\"background-color: #FFFAFA\">effectively</span> <span style=\"background-color: #FFF6F6\">.</span> <span style=\"background-color: #FFF8F8\">•</span> <span style=\"background-color: #FFFAFA\">results</span> <span style=\"background-color: #EAEAFF\">focused</span> <span style=\"background-color: #FFF8F8\">getting</span> <span style=\"background-color: #E6E6FF\">the</span> <span style=\"background-color: #FFF0F0\">job</span> <span style=\"background-color: #FFFEFE\">done</span> <span style=\"background-color: #FEFEFF\">in</span> <span style=\"background-color: #EAEAFF\">an</span> <span style=\"background-color: #F6F6FF\">efficient</span> <span style=\"background-color: #EAEAFF\">way</span> <span style=\"background-color: #F0F0FF\">through</span> <span style=\"background-color: #FFF0F0\">effective</span> <span style=\"background-color: #FFF6F6\">time</span> <span style=\"background-color: #FCFCFF\">,</span> <span style=\"background-color: #FFFCFC\">task</span> <span style=\"background-color: #F2F2FF\">and</span> <span style=\"background-color: #F8F8FF\">financial</span> <span style=\"background-color: #ECECFF\">management</span> <span style=\"background-color: #FEFEFF\">.</span> <span style=\"background-color: #FCFCFF\">•</span> <span style=\"background-color: #F2F2FF\">commercial</span> <span style=\"background-color: #FFFEFE\">awareness</span> <span style=\"background-color: #FFF8F8\">contribution</span> <span style=\"background-color: #FFF0F0\">to</span> <span style=\"background-color: #F0F0FF\">the</span> <span style=\"background-color: #E6E6FF\">business</span> <span style=\"background-color: #F2F2FF\">through</span> <span style=\"background-color: #FFFAFA\">awareness</span> <span style=\"background-color: #F8F8FF\">of</span> <span style=\"background-color: #FAFAFF\">group</span> <span style=\"background-color: #F6F6FF\">services</span> <span style=\"background-color: #F8F8FF\">,</span> <span style=\"background-color: #ECECFF\">the</span> <span style=\"background-color: #E0E0FF\">business</span> <span style=\"background-color: #FFFCFC\">unit</span> <span style=\"background-color: #FFFAFA\">’</span> <span style=\"background-color: #FCFCFF\">s</span> <span style=\"background-color: #F2F2FF\">purpose</span> <span style=\"background-color: #FAFAFF\">and</span> <span style=\"background-color: #F8F8FF\">its</span> <span style=\"background-color: #FFF6F6\">market</span> <span style=\"background-color: #FFF8F8\">place</span> <span style=\"background-color: #FFF0F0\">;</span> <span style=\"background-color: #FAFAFF\">and</span> <span style=\"background-color: #FFF2F2\">identification</span> <span style=\"background-color: #F6F6FF\">of</span> <span style=\"background-color: #FEFEFF\">new</span> <span style=\"background-color: #FFFEFE\">opportunities</span> <span style=\"background-color: #FEFEFF\">.</span> <span style=\"background-color: #FFFAFA\">with</span> <span style=\"background-color: #F3F3FF\">an</span> <span style=\"background-color: #F3F3FF\">extensive</span> <span style=\"background-color: #FCFCFF\">client</span> <span style=\"background-color: #FEFEFF\">list</span> <span style=\"background-color: #FCFCFF\">including</span> <span style=\"background-color: #F6F6FF\">private</span> <span style=\"background-color: #F8F8FF\">and</span> <span style=\"background-color: #F6F6FF\">public</span> <span style=\"background-color: #FFFEFE\">sector</span> <span style=\"background-color: #F6F6FF\">,</span> <span style=\"background-color: #FAFAFF\">my</span> <span style=\"background-color: #F8F8FF\">client</span> <span style=\"background-color: #FFF0F0\">offer</span> <span style=\"background-color: #FFFEFE\">opportunities</span> <span style=\"background-color: #FFF2F2\">to</span> <span style=\"background-color: #FEFEFF\">further</span> <span style=\"background-color: #FFF2F2\">your</span> <span style=\"background-color: #FFFAFA\">career</span> <span style=\"background-color: #FAFAFF\">,</span> <span style=\"background-color: #FCFCFF\">reinforce</span> <span style=\"background-color: #F8F8FF\">project</span> <span style=\"background-color: #EAEAFF\">management</span> <span style=\"background-color: #FFF2F2\">skills</span> <span style=\"background-color: #ECECFF\">and</span> <span style=\"background-color: #FEFEFF\">advancement</span> <span style=\"background-color: #E6E6FF\">within</span> <span style=\"background-color: #F8F8FF\">capita</span> <span style=\"background-color: #FCFCFF\">symonds</span> <span style=\"background-color: #FFFCFC\">.</span> <span style=\"background-color: #FCFCFF\">this</span> <span style=\"background-color: #FFF8F8\">job</span> <span style=\"background-color: #FFF4F4\">was</span> <span style=\"background-color: #FCFCFF\">originally</span> <span style=\"background-color: #FFF4F4\">posted</span> <span style=\"background-color: #FFEEEE\">as</span> <span style=\"background-color: #F8F8FF\">www</span> <span style=\"background-color: #FCFCFF\">.</span> <span style=\"background-color: #F6F6FF\">careerstructure</span> <span style=\"background-color: #FFFEFE\">.</span> <span style=\"background-color: #F8F8FF\">com</span> <span style=\"background-color: #FCFCFF\">/</span> <span style=\"background-color: #FFFEFE\">jobseeking</span> <span style=\"background-color: #FEFEFF\">/</span> <span style=\"background-color: #FFFEFE\">UNK</span> <span style=\"background-color: #FFFEFE\">****</span></p>"
            ]
          },
          "metadata": {}
        }
      ],
      "source": [
        "i = np.random.randint(len(data))\n",
        "print(\"Index:\", i)\n",
        "print(\"Salary (gbp):\", np.expm1(model(make_batch(data.iloc[i: i+1], device=device)).detach().cpu()))\n",
        "\n",
        "tokens_and_weights = explain(model, data.loc[i], \"Title\")\n",
        "draw_html([(tok, weight * 5) for tok, weight in tokens_and_weights], font_style='font-size:20px;');\n",
        "\n",
        "tokens_and_weights = explain(model, data.loc[i], \"FullDescription\")\n",
        "draw_html([(tok, weight * 10) for tok, weight in tokens_and_weights]);"
      ]
    }
  ],
  "metadata": {
    "kernelspec": {
      "display_name": "Python 3",
      "language": "python",
      "name": "python3"
    },
    "language_info": {
      "codemirror_mode": {
        "name": "ipython",
        "version": 3
      },
      "file_extension": ".py",
      "mimetype": "text/x-python",
      "name": "python",
      "nbconvert_exporter": "python",
      "pygments_lexer": "ipython3",
      "version": "3.8.1"
    },
    "colab": {
      "provenance": []
    },
    "widgets": {
      "application/vnd.jupyter.widget-state+json": {
        "b0c6899695264331a68a8031ba6709f5": {
          "model_module": "@jupyter-widgets/controls",
          "model_name": "HBoxModel",
          "model_module_version": "1.5.0",
          "state": {
            "_dom_classes": [],
            "_model_module": "@jupyter-widgets/controls",
            "_model_module_version": "1.5.0",
            "_model_name": "HBoxModel",
            "_view_count": null,
            "_view_module": "@jupyter-widgets/controls",
            "_view_module_version": "1.5.0",
            "_view_name": "HBoxView",
            "box_style": "",
            "children": [
              "IPY_MODEL_83e875fbf5e64172aa3f26de6757f8c3",
              "IPY_MODEL_3541960f9a694a7eb81c875f716e1298",
              "IPY_MODEL_81cdacd71faa4f54ab7e56244a204e96"
            ],
            "layout": "IPY_MODEL_5f8dfa9648d048a58f132d33efc6ff54"
          }
        },
        "83e875fbf5e64172aa3f26de6757f8c3": {
          "model_module": "@jupyter-widgets/controls",
          "model_name": "HTMLModel",
          "model_module_version": "1.5.0",
          "state": {
            "_dom_classes": [],
            "_model_module": "@jupyter-widgets/controls",
            "_model_module_version": "1.5.0",
            "_model_name": "HTMLModel",
            "_view_count": null,
            "_view_module": "@jupyter-widgets/controls",
            "_view_module_version": "1.5.0",
            "_view_name": "HTMLView",
            "description": "",
            "description_tooltip": null,
            "layout": "IPY_MODEL_03fc6d9a2d894437aee47e92581c0439",
            "placeholder": "​",
            "style": "IPY_MODEL_adebd7d972b34472a6dac6299a502a1d",
            "value": ""
          }
        },
        "3541960f9a694a7eb81c875f716e1298": {
          "model_module": "@jupyter-widgets/controls",
          "model_name": "FloatProgressModel",
          "model_module_version": "1.5.0",
          "state": {
            "_dom_classes": [],
            "_model_module": "@jupyter-widgets/controls",
            "_model_module_version": "1.5.0",
            "_model_name": "FloatProgressModel",
            "_view_count": null,
            "_view_module": "@jupyter-widgets/controls",
            "_view_module_version": "1.5.0",
            "_view_name": "ProgressView",
            "bar_style": "success",
            "description": "",
            "description_tooltip": null,
            "layout": "IPY_MODEL_198af7e223064fcfae023b04ff17764a",
            "max": 12238,
            "min": 0,
            "orientation": "horizontal",
            "style": "IPY_MODEL_4eac6041d9a649f2975ca1167d5e4cf6",
            "value": 12238
          }
        },
        "81cdacd71faa4f54ab7e56244a204e96": {
          "model_module": "@jupyter-widgets/controls",
          "model_name": "HTMLModel",
          "model_module_version": "1.5.0",
          "state": {
            "_dom_classes": [],
            "_model_module": "@jupyter-widgets/controls",
            "_model_module_version": "1.5.0",
            "_model_name": "HTMLModel",
            "_view_count": null,
            "_view_module": "@jupyter-widgets/controls",
            "_view_module_version": "1.5.0",
            "_view_name": "HTMLView",
            "description": "",
            "description_tooltip": null,
            "layout": "IPY_MODEL_86353a89048847c6928d33f6791d53b2",
            "placeholder": "​",
            "style": "IPY_MODEL_970a81c3cc0049c5a47f3c4baef50ee8",
            "value": " 12239/? [10:28&lt;00:00, 21.44it/s]"
          }
        },
        "5f8dfa9648d048a58f132d33efc6ff54": {
          "model_module": "@jupyter-widgets/base",
          "model_name": "LayoutModel",
          "model_module_version": "1.2.0",
          "state": {
            "_model_module": "@jupyter-widgets/base",
            "_model_module_version": "1.2.0",
            "_model_name": "LayoutModel",
            "_view_count": null,
            "_view_module": "@jupyter-widgets/base",
            "_view_module_version": "1.2.0",
            "_view_name": "LayoutView",
            "align_content": null,
            "align_items": null,
            "align_self": null,
            "border": null,
            "bottom": null,
            "display": null,
            "flex": null,
            "flex_flow": null,
            "grid_area": null,
            "grid_auto_columns": null,
            "grid_auto_flow": null,
            "grid_auto_rows": null,
            "grid_column": null,
            "grid_gap": null,
            "grid_row": null,
            "grid_template_areas": null,
            "grid_template_columns": null,
            "grid_template_rows": null,
            "height": null,
            "justify_content": null,
            "justify_items": null,
            "left": null,
            "margin": null,
            "max_height": null,
            "max_width": null,
            "min_height": null,
            "min_width": null,
            "object_fit": null,
            "object_position": null,
            "order": null,
            "overflow": null,
            "overflow_x": null,
            "overflow_y": null,
            "padding": null,
            "right": null,
            "top": null,
            "visibility": null,
            "width": null
          }
        },
        "03fc6d9a2d894437aee47e92581c0439": {
          "model_module": "@jupyter-widgets/base",
          "model_name": "LayoutModel",
          "model_module_version": "1.2.0",
          "state": {
            "_model_module": "@jupyter-widgets/base",
            "_model_module_version": "1.2.0",
            "_model_name": "LayoutModel",
            "_view_count": null,
            "_view_module": "@jupyter-widgets/base",
            "_view_module_version": "1.2.0",
            "_view_name": "LayoutView",
            "align_content": null,
            "align_items": null,
            "align_self": null,
            "border": null,
            "bottom": null,
            "display": null,
            "flex": null,
            "flex_flow": null,
            "grid_area": null,
            "grid_auto_columns": null,
            "grid_auto_flow": null,
            "grid_auto_rows": null,
            "grid_column": null,
            "grid_gap": null,
            "grid_row": null,
            "grid_template_areas": null,
            "grid_template_columns": null,
            "grid_template_rows": null,
            "height": null,
            "justify_content": null,
            "justify_items": null,
            "left": null,
            "margin": null,
            "max_height": null,
            "max_width": null,
            "min_height": null,
            "min_width": null,
            "object_fit": null,
            "object_position": null,
            "order": null,
            "overflow": null,
            "overflow_x": null,
            "overflow_y": null,
            "padding": null,
            "right": null,
            "top": null,
            "visibility": null,
            "width": null
          }
        },
        "adebd7d972b34472a6dac6299a502a1d": {
          "model_module": "@jupyter-widgets/controls",
          "model_name": "DescriptionStyleModel",
          "model_module_version": "1.5.0",
          "state": {
            "_model_module": "@jupyter-widgets/controls",
            "_model_module_version": "1.5.0",
            "_model_name": "DescriptionStyleModel",
            "_view_count": null,
            "_view_module": "@jupyter-widgets/base",
            "_view_module_version": "1.2.0",
            "_view_name": "StyleView",
            "description_width": ""
          }
        },
        "198af7e223064fcfae023b04ff17764a": {
          "model_module": "@jupyter-widgets/base",
          "model_name": "LayoutModel",
          "model_module_version": "1.2.0",
          "state": {
            "_model_module": "@jupyter-widgets/base",
            "_model_module_version": "1.2.0",
            "_model_name": "LayoutModel",
            "_view_count": null,
            "_view_module": "@jupyter-widgets/base",
            "_view_module_version": "1.2.0",
            "_view_name": "LayoutView",
            "align_content": null,
            "align_items": null,
            "align_self": null,
            "border": null,
            "bottom": null,
            "display": null,
            "flex": null,
            "flex_flow": null,
            "grid_area": null,
            "grid_auto_columns": null,
            "grid_auto_flow": null,
            "grid_auto_rows": null,
            "grid_column": null,
            "grid_gap": null,
            "grid_row": null,
            "grid_template_areas": null,
            "grid_template_columns": null,
            "grid_template_rows": null,
            "height": null,
            "justify_content": null,
            "justify_items": null,
            "left": null,
            "margin": null,
            "max_height": null,
            "max_width": null,
            "min_height": null,
            "min_width": null,
            "object_fit": null,
            "object_position": null,
            "order": null,
            "overflow": null,
            "overflow_x": null,
            "overflow_y": null,
            "padding": null,
            "right": null,
            "top": null,
            "visibility": null,
            "width": null
          }
        },
        "4eac6041d9a649f2975ca1167d5e4cf6": {
          "model_module": "@jupyter-widgets/controls",
          "model_name": "ProgressStyleModel",
          "model_module_version": "1.5.0",
          "state": {
            "_model_module": "@jupyter-widgets/controls",
            "_model_module_version": "1.5.0",
            "_model_name": "ProgressStyleModel",
            "_view_count": null,
            "_view_module": "@jupyter-widgets/base",
            "_view_module_version": "1.2.0",
            "_view_name": "StyleView",
            "bar_color": null,
            "description_width": ""
          }
        },
        "86353a89048847c6928d33f6791d53b2": {
          "model_module": "@jupyter-widgets/base",
          "model_name": "LayoutModel",
          "model_module_version": "1.2.0",
          "state": {
            "_model_module": "@jupyter-widgets/base",
            "_model_module_version": "1.2.0",
            "_model_name": "LayoutModel",
            "_view_count": null,
            "_view_module": "@jupyter-widgets/base",
            "_view_module_version": "1.2.0",
            "_view_name": "LayoutView",
            "align_content": null,
            "align_items": null,
            "align_self": null,
            "border": null,
            "bottom": null,
            "display": null,
            "flex": null,
            "flex_flow": null,
            "grid_area": null,
            "grid_auto_columns": null,
            "grid_auto_flow": null,
            "grid_auto_rows": null,
            "grid_column": null,
            "grid_gap": null,
            "grid_row": null,
            "grid_template_areas": null,
            "grid_template_columns": null,
            "grid_template_rows": null,
            "height": null,
            "justify_content": null,
            "justify_items": null,
            "left": null,
            "margin": null,
            "max_height": null,
            "max_width": null,
            "min_height": null,
            "min_width": null,
            "object_fit": null,
            "object_position": null,
            "order": null,
            "overflow": null,
            "overflow_x": null,
            "overflow_y": null,
            "padding": null,
            "right": null,
            "top": null,
            "visibility": null,
            "width": null
          }
        },
        "970a81c3cc0049c5a47f3c4baef50ee8": {
          "model_module": "@jupyter-widgets/controls",
          "model_name": "DescriptionStyleModel",
          "model_module_version": "1.5.0",
          "state": {
            "_model_module": "@jupyter-widgets/controls",
            "_model_module_version": "1.5.0",
            "_model_name": "DescriptionStyleModel",
            "_view_count": null,
            "_view_module": "@jupyter-widgets/base",
            "_view_module_version": "1.2.0",
            "_view_name": "StyleView",
            "description_width": ""
          }
        },
        "c1476d645721405ebcdba7008fef907b": {
          "model_module": "@jupyter-widgets/controls",
          "model_name": "HBoxModel",
          "model_module_version": "1.5.0",
          "state": {
            "_dom_classes": [],
            "_model_module": "@jupyter-widgets/controls",
            "_model_module_version": "1.5.0",
            "_model_name": "HBoxModel",
            "_view_count": null,
            "_view_module": "@jupyter-widgets/controls",
            "_view_module_version": "1.5.0",
            "_view_name": "HBoxView",
            "box_style": "",
            "children": [
              "IPY_MODEL_ff00819cd5ae401cb8aecddb125a4ed7",
              "IPY_MODEL_79919484cc1a43b79270fe0c0e44c2fd",
              "IPY_MODEL_50cc7da23d1d4e12ad063191af20e243"
            ],
            "layout": "IPY_MODEL_859b967881c24bd989a222405cea5b9c"
          }
        },
        "ff00819cd5ae401cb8aecddb125a4ed7": {
          "model_module": "@jupyter-widgets/controls",
          "model_name": "HTMLModel",
          "model_module_version": "1.5.0",
          "state": {
            "_dom_classes": [],
            "_model_module": "@jupyter-widgets/controls",
            "_model_module_version": "1.5.0",
            "_model_name": "HTMLModel",
            "_view_count": null,
            "_view_module": "@jupyter-widgets/controls",
            "_view_module_version": "1.5.0",
            "_view_name": "HTMLView",
            "description": "",
            "description_tooltip": null,
            "layout": "IPY_MODEL_642b775b77ac46949b97f5b8574604d8",
            "placeholder": "​",
            "style": "IPY_MODEL_af0fa7cd9d6b45c486b7a4361b122332",
            "value": ""
          }
        },
        "79919484cc1a43b79270fe0c0e44c2fd": {
          "model_module": "@jupyter-widgets/controls",
          "model_name": "FloatProgressModel",
          "model_module_version": "1.5.0",
          "state": {
            "_dom_classes": [],
            "_model_module": "@jupyter-widgets/controls",
            "_model_module_version": "1.5.0",
            "_model_name": "FloatProgressModel",
            "_view_count": null,
            "_view_module": "@jupyter-widgets/controls",
            "_view_module_version": "1.5.0",
            "_view_name": "ProgressView",
            "bar_style": "success",
            "description": "",
            "description_tooltip": null,
            "layout": "IPY_MODEL_267b97da08f04792a911da5bb0d2c613",
            "max": 12238,
            "min": 0,
            "orientation": "horizontal",
            "style": "IPY_MODEL_6a7f054a35e84beabd4e236121da9b27",
            "value": 12238
          }
        },
        "50cc7da23d1d4e12ad063191af20e243": {
          "model_module": "@jupyter-widgets/controls",
          "model_name": "HTMLModel",
          "model_module_version": "1.5.0",
          "state": {
            "_dom_classes": [],
            "_model_module": "@jupyter-widgets/controls",
            "_model_module_version": "1.5.0",
            "_model_name": "HTMLModel",
            "_view_count": null,
            "_view_module": "@jupyter-widgets/controls",
            "_view_module_version": "1.5.0",
            "_view_name": "HTMLView",
            "description": "",
            "description_tooltip": null,
            "layout": "IPY_MODEL_c7bc2eab40774051acd939ad2ef6b24e",
            "placeholder": "​",
            "style": "IPY_MODEL_eafd730d006247319806247a9bffd081",
            "value": " 12239/? [10:30&lt;00:00, 19.92it/s]"
          }
        },
        "859b967881c24bd989a222405cea5b9c": {
          "model_module": "@jupyter-widgets/base",
          "model_name": "LayoutModel",
          "model_module_version": "1.2.0",
          "state": {
            "_model_module": "@jupyter-widgets/base",
            "_model_module_version": "1.2.0",
            "_model_name": "LayoutModel",
            "_view_count": null,
            "_view_module": "@jupyter-widgets/base",
            "_view_module_version": "1.2.0",
            "_view_name": "LayoutView",
            "align_content": null,
            "align_items": null,
            "align_self": null,
            "border": null,
            "bottom": null,
            "display": null,
            "flex": null,
            "flex_flow": null,
            "grid_area": null,
            "grid_auto_columns": null,
            "grid_auto_flow": null,
            "grid_auto_rows": null,
            "grid_column": null,
            "grid_gap": null,
            "grid_row": null,
            "grid_template_areas": null,
            "grid_template_columns": null,
            "grid_template_rows": null,
            "height": null,
            "justify_content": null,
            "justify_items": null,
            "left": null,
            "margin": null,
            "max_height": null,
            "max_width": null,
            "min_height": null,
            "min_width": null,
            "object_fit": null,
            "object_position": null,
            "order": null,
            "overflow": null,
            "overflow_x": null,
            "overflow_y": null,
            "padding": null,
            "right": null,
            "top": null,
            "visibility": null,
            "width": null
          }
        },
        "642b775b77ac46949b97f5b8574604d8": {
          "model_module": "@jupyter-widgets/base",
          "model_name": "LayoutModel",
          "model_module_version": "1.2.0",
          "state": {
            "_model_module": "@jupyter-widgets/base",
            "_model_module_version": "1.2.0",
            "_model_name": "LayoutModel",
            "_view_count": null,
            "_view_module": "@jupyter-widgets/base",
            "_view_module_version": "1.2.0",
            "_view_name": "LayoutView",
            "align_content": null,
            "align_items": null,
            "align_self": null,
            "border": null,
            "bottom": null,
            "display": null,
            "flex": null,
            "flex_flow": null,
            "grid_area": null,
            "grid_auto_columns": null,
            "grid_auto_flow": null,
            "grid_auto_rows": null,
            "grid_column": null,
            "grid_gap": null,
            "grid_row": null,
            "grid_template_areas": null,
            "grid_template_columns": null,
            "grid_template_rows": null,
            "height": null,
            "justify_content": null,
            "justify_items": null,
            "left": null,
            "margin": null,
            "max_height": null,
            "max_width": null,
            "min_height": null,
            "min_width": null,
            "object_fit": null,
            "object_position": null,
            "order": null,
            "overflow": null,
            "overflow_x": null,
            "overflow_y": null,
            "padding": null,
            "right": null,
            "top": null,
            "visibility": null,
            "width": null
          }
        },
        "af0fa7cd9d6b45c486b7a4361b122332": {
          "model_module": "@jupyter-widgets/controls",
          "model_name": "DescriptionStyleModel",
          "model_module_version": "1.5.0",
          "state": {
            "_model_module": "@jupyter-widgets/controls",
            "_model_module_version": "1.5.0",
            "_model_name": "DescriptionStyleModel",
            "_view_count": null,
            "_view_module": "@jupyter-widgets/base",
            "_view_module_version": "1.2.0",
            "_view_name": "StyleView",
            "description_width": ""
          }
        },
        "267b97da08f04792a911da5bb0d2c613": {
          "model_module": "@jupyter-widgets/base",
          "model_name": "LayoutModel",
          "model_module_version": "1.2.0",
          "state": {
            "_model_module": "@jupyter-widgets/base",
            "_model_module_version": "1.2.0",
            "_model_name": "LayoutModel",
            "_view_count": null,
            "_view_module": "@jupyter-widgets/base",
            "_view_module_version": "1.2.0",
            "_view_name": "LayoutView",
            "align_content": null,
            "align_items": null,
            "align_self": null,
            "border": null,
            "bottom": null,
            "display": null,
            "flex": null,
            "flex_flow": null,
            "grid_area": null,
            "grid_auto_columns": null,
            "grid_auto_flow": null,
            "grid_auto_rows": null,
            "grid_column": null,
            "grid_gap": null,
            "grid_row": null,
            "grid_template_areas": null,
            "grid_template_columns": null,
            "grid_template_rows": null,
            "height": null,
            "justify_content": null,
            "justify_items": null,
            "left": null,
            "margin": null,
            "max_height": null,
            "max_width": null,
            "min_height": null,
            "min_width": null,
            "object_fit": null,
            "object_position": null,
            "order": null,
            "overflow": null,
            "overflow_x": null,
            "overflow_y": null,
            "padding": null,
            "right": null,
            "top": null,
            "visibility": null,
            "width": null
          }
        },
        "6a7f054a35e84beabd4e236121da9b27": {
          "model_module": "@jupyter-widgets/controls",
          "model_name": "ProgressStyleModel",
          "model_module_version": "1.5.0",
          "state": {
            "_model_module": "@jupyter-widgets/controls",
            "_model_module_version": "1.5.0",
            "_model_name": "ProgressStyleModel",
            "_view_count": null,
            "_view_module": "@jupyter-widgets/base",
            "_view_module_version": "1.2.0",
            "_view_name": "StyleView",
            "bar_color": null,
            "description_width": ""
          }
        },
        "c7bc2eab40774051acd939ad2ef6b24e": {
          "model_module": "@jupyter-widgets/base",
          "model_name": "LayoutModel",
          "model_module_version": "1.2.0",
          "state": {
            "_model_module": "@jupyter-widgets/base",
            "_model_module_version": "1.2.0",
            "_model_name": "LayoutModel",
            "_view_count": null,
            "_view_module": "@jupyter-widgets/base",
            "_view_module_version": "1.2.0",
            "_view_name": "LayoutView",
            "align_content": null,
            "align_items": null,
            "align_self": null,
            "border": null,
            "bottom": null,
            "display": null,
            "flex": null,
            "flex_flow": null,
            "grid_area": null,
            "grid_auto_columns": null,
            "grid_auto_flow": null,
            "grid_auto_rows": null,
            "grid_column": null,
            "grid_gap": null,
            "grid_row": null,
            "grid_template_areas": null,
            "grid_template_columns": null,
            "grid_template_rows": null,
            "height": null,
            "justify_content": null,
            "justify_items": null,
            "left": null,
            "margin": null,
            "max_height": null,
            "max_width": null,
            "min_height": null,
            "min_width": null,
            "object_fit": null,
            "object_position": null,
            "order": null,
            "overflow": null,
            "overflow_x": null,
            "overflow_y": null,
            "padding": null,
            "right": null,
            "top": null,
            "visibility": null,
            "width": null
          }
        },
        "eafd730d006247319806247a9bffd081": {
          "model_module": "@jupyter-widgets/controls",
          "model_name": "DescriptionStyleModel",
          "model_module_version": "1.5.0",
          "state": {
            "_model_module": "@jupyter-widgets/controls",
            "_model_module_version": "1.5.0",
            "_model_name": "DescriptionStyleModel",
            "_view_count": null,
            "_view_module": "@jupyter-widgets/base",
            "_view_module_version": "1.2.0",
            "_view_name": "StyleView",
            "description_width": ""
          }
        },
        "0b34a57995434d29a3773dfb9ecd156c": {
          "model_module": "@jupyter-widgets/controls",
          "model_name": "HBoxModel",
          "model_module_version": "1.5.0",
          "state": {
            "_dom_classes": [],
            "_model_module": "@jupyter-widgets/controls",
            "_model_module_version": "1.5.0",
            "_model_name": "HBoxModel",
            "_view_count": null,
            "_view_module": "@jupyter-widgets/controls",
            "_view_module_version": "1.5.0",
            "_view_name": "HBoxView",
            "box_style": "",
            "children": [
              "IPY_MODEL_776b41a4feb04e248f023753b122b400",
              "IPY_MODEL_a18c5a5c960740b187dc1f80d6648744",
              "IPY_MODEL_e19214dd344240d7abd9a7e4308531c4"
            ],
            "layout": "IPY_MODEL_65ac547b4fde4414806c8405f78d8b56"
          }
        },
        "776b41a4feb04e248f023753b122b400": {
          "model_module": "@jupyter-widgets/controls",
          "model_name": "HTMLModel",
          "model_module_version": "1.5.0",
          "state": {
            "_dom_classes": [],
            "_model_module": "@jupyter-widgets/controls",
            "_model_module_version": "1.5.0",
            "_model_name": "HTMLModel",
            "_view_count": null,
            "_view_module": "@jupyter-widgets/controls",
            "_view_module_version": "1.5.0",
            "_view_name": "HTMLView",
            "description": "",
            "description_tooltip": null,
            "layout": "IPY_MODEL_912609e2c4bf48389cdd7ec1bc94ecc2",
            "placeholder": "​",
            "style": "IPY_MODEL_eb510a3682844e4d8213ca8c5c18da25",
            "value": ""
          }
        },
        "a18c5a5c960740b187dc1f80d6648744": {
          "model_module": "@jupyter-widgets/controls",
          "model_name": "FloatProgressModel",
          "model_module_version": "1.5.0",
          "state": {
            "_dom_classes": [],
            "_model_module": "@jupyter-widgets/controls",
            "_model_module_version": "1.5.0",
            "_model_name": "FloatProgressModel",
            "_view_count": null,
            "_view_module": "@jupyter-widgets/controls",
            "_view_module_version": "1.5.0",
            "_view_name": "ProgressView",
            "bar_style": "success",
            "description": "",
            "description_tooltip": null,
            "layout": "IPY_MODEL_bbdcadab415448289d61fb73bf894c91",
            "max": 12238,
            "min": 0,
            "orientation": "horizontal",
            "style": "IPY_MODEL_bb15b96d730a4b90a6365032a7e6cd7a",
            "value": 12238
          }
        },
        "e19214dd344240d7abd9a7e4308531c4": {
          "model_module": "@jupyter-widgets/controls",
          "model_name": "HTMLModel",
          "model_module_version": "1.5.0",
          "state": {
            "_dom_classes": [],
            "_model_module": "@jupyter-widgets/controls",
            "_model_module_version": "1.5.0",
            "_model_name": "HTMLModel",
            "_view_count": null,
            "_view_module": "@jupyter-widgets/controls",
            "_view_module_version": "1.5.0",
            "_view_name": "HTMLView",
            "description": "",
            "description_tooltip": null,
            "layout": "IPY_MODEL_1884e7f751584a38b06aa099f3c79275",
            "placeholder": "​",
            "style": "IPY_MODEL_89c65c7328434e8eafe06944a9d634ed",
            "value": " 12239/? [10:40&lt;00:00, 15.33it/s]"
          }
        },
        "65ac547b4fde4414806c8405f78d8b56": {
          "model_module": "@jupyter-widgets/base",
          "model_name": "LayoutModel",
          "model_module_version": "1.2.0",
          "state": {
            "_model_module": "@jupyter-widgets/base",
            "_model_module_version": "1.2.0",
            "_model_name": "LayoutModel",
            "_view_count": null,
            "_view_module": "@jupyter-widgets/base",
            "_view_module_version": "1.2.0",
            "_view_name": "LayoutView",
            "align_content": null,
            "align_items": null,
            "align_self": null,
            "border": null,
            "bottom": null,
            "display": null,
            "flex": null,
            "flex_flow": null,
            "grid_area": null,
            "grid_auto_columns": null,
            "grid_auto_flow": null,
            "grid_auto_rows": null,
            "grid_column": null,
            "grid_gap": null,
            "grid_row": null,
            "grid_template_areas": null,
            "grid_template_columns": null,
            "grid_template_rows": null,
            "height": null,
            "justify_content": null,
            "justify_items": null,
            "left": null,
            "margin": null,
            "max_height": null,
            "max_width": null,
            "min_height": null,
            "min_width": null,
            "object_fit": null,
            "object_position": null,
            "order": null,
            "overflow": null,
            "overflow_x": null,
            "overflow_y": null,
            "padding": null,
            "right": null,
            "top": null,
            "visibility": null,
            "width": null
          }
        },
        "912609e2c4bf48389cdd7ec1bc94ecc2": {
          "model_module": "@jupyter-widgets/base",
          "model_name": "LayoutModel",
          "model_module_version": "1.2.0",
          "state": {
            "_model_module": "@jupyter-widgets/base",
            "_model_module_version": "1.2.0",
            "_model_name": "LayoutModel",
            "_view_count": null,
            "_view_module": "@jupyter-widgets/base",
            "_view_module_version": "1.2.0",
            "_view_name": "LayoutView",
            "align_content": null,
            "align_items": null,
            "align_self": null,
            "border": null,
            "bottom": null,
            "display": null,
            "flex": null,
            "flex_flow": null,
            "grid_area": null,
            "grid_auto_columns": null,
            "grid_auto_flow": null,
            "grid_auto_rows": null,
            "grid_column": null,
            "grid_gap": null,
            "grid_row": null,
            "grid_template_areas": null,
            "grid_template_columns": null,
            "grid_template_rows": null,
            "height": null,
            "justify_content": null,
            "justify_items": null,
            "left": null,
            "margin": null,
            "max_height": null,
            "max_width": null,
            "min_height": null,
            "min_width": null,
            "object_fit": null,
            "object_position": null,
            "order": null,
            "overflow": null,
            "overflow_x": null,
            "overflow_y": null,
            "padding": null,
            "right": null,
            "top": null,
            "visibility": null,
            "width": null
          }
        },
        "eb510a3682844e4d8213ca8c5c18da25": {
          "model_module": "@jupyter-widgets/controls",
          "model_name": "DescriptionStyleModel",
          "model_module_version": "1.5.0",
          "state": {
            "_model_module": "@jupyter-widgets/controls",
            "_model_module_version": "1.5.0",
            "_model_name": "DescriptionStyleModel",
            "_view_count": null,
            "_view_module": "@jupyter-widgets/base",
            "_view_module_version": "1.2.0",
            "_view_name": "StyleView",
            "description_width": ""
          }
        },
        "bbdcadab415448289d61fb73bf894c91": {
          "model_module": "@jupyter-widgets/base",
          "model_name": "LayoutModel",
          "model_module_version": "1.2.0",
          "state": {
            "_model_module": "@jupyter-widgets/base",
            "_model_module_version": "1.2.0",
            "_model_name": "LayoutModel",
            "_view_count": null,
            "_view_module": "@jupyter-widgets/base",
            "_view_module_version": "1.2.0",
            "_view_name": "LayoutView",
            "align_content": null,
            "align_items": null,
            "align_self": null,
            "border": null,
            "bottom": null,
            "display": null,
            "flex": null,
            "flex_flow": null,
            "grid_area": null,
            "grid_auto_columns": null,
            "grid_auto_flow": null,
            "grid_auto_rows": null,
            "grid_column": null,
            "grid_gap": null,
            "grid_row": null,
            "grid_template_areas": null,
            "grid_template_columns": null,
            "grid_template_rows": null,
            "height": null,
            "justify_content": null,
            "justify_items": null,
            "left": null,
            "margin": null,
            "max_height": null,
            "max_width": null,
            "min_height": null,
            "min_width": null,
            "object_fit": null,
            "object_position": null,
            "order": null,
            "overflow": null,
            "overflow_x": null,
            "overflow_y": null,
            "padding": null,
            "right": null,
            "top": null,
            "visibility": null,
            "width": null
          }
        },
        "bb15b96d730a4b90a6365032a7e6cd7a": {
          "model_module": "@jupyter-widgets/controls",
          "model_name": "ProgressStyleModel",
          "model_module_version": "1.5.0",
          "state": {
            "_model_module": "@jupyter-widgets/controls",
            "_model_module_version": "1.5.0",
            "_model_name": "ProgressStyleModel",
            "_view_count": null,
            "_view_module": "@jupyter-widgets/base",
            "_view_module_version": "1.2.0",
            "_view_name": "StyleView",
            "bar_color": null,
            "description_width": ""
          }
        },
        "1884e7f751584a38b06aa099f3c79275": {
          "model_module": "@jupyter-widgets/base",
          "model_name": "LayoutModel",
          "model_module_version": "1.2.0",
          "state": {
            "_model_module": "@jupyter-widgets/base",
            "_model_module_version": "1.2.0",
            "_model_name": "LayoutModel",
            "_view_count": null,
            "_view_module": "@jupyter-widgets/base",
            "_view_module_version": "1.2.0",
            "_view_name": "LayoutView",
            "align_content": null,
            "align_items": null,
            "align_self": null,
            "border": null,
            "bottom": null,
            "display": null,
            "flex": null,
            "flex_flow": null,
            "grid_area": null,
            "grid_auto_columns": null,
            "grid_auto_flow": null,
            "grid_auto_rows": null,
            "grid_column": null,
            "grid_gap": null,
            "grid_row": null,
            "grid_template_areas": null,
            "grid_template_columns": null,
            "grid_template_rows": null,
            "height": null,
            "justify_content": null,
            "justify_items": null,
            "left": null,
            "margin": null,
            "max_height": null,
            "max_width": null,
            "min_height": null,
            "min_width": null,
            "object_fit": null,
            "object_position": null,
            "order": null,
            "overflow": null,
            "overflow_x": null,
            "overflow_y": null,
            "padding": null,
            "right": null,
            "top": null,
            "visibility": null,
            "width": null
          }
        },
        "89c65c7328434e8eafe06944a9d634ed": {
          "model_module": "@jupyter-widgets/controls",
          "model_name": "DescriptionStyleModel",
          "model_module_version": "1.5.0",
          "state": {
            "_model_module": "@jupyter-widgets/controls",
            "_model_module_version": "1.5.0",
            "_model_name": "DescriptionStyleModel",
            "_view_count": null,
            "_view_module": "@jupyter-widgets/base",
            "_view_module_version": "1.2.0",
            "_view_name": "StyleView",
            "description_width": ""
          }
        },
        "ad7a7eb67732424f994a3868d36c4f1e": {
          "model_module": "@jupyter-widgets/controls",
          "model_name": "HBoxModel",
          "model_module_version": "1.5.0",
          "state": {
            "_dom_classes": [],
            "_model_module": "@jupyter-widgets/controls",
            "_model_module_version": "1.5.0",
            "_model_name": "HBoxModel",
            "_view_count": null,
            "_view_module": "@jupyter-widgets/controls",
            "_view_module_version": "1.5.0",
            "_view_name": "HBoxView",
            "box_style": "",
            "children": [
              "IPY_MODEL_7fd1ee7139b54355bbc7e2f2be28c48d",
              "IPY_MODEL_2709a109f78a441a910a1ecb1d9f6465",
              "IPY_MODEL_cbc979a0566c4cbb990ba2d6c242d6a1"
            ],
            "layout": "IPY_MODEL_f87010067c574ea187d136fb0d1b25e9"
          }
        },
        "7fd1ee7139b54355bbc7e2f2be28c48d": {
          "model_module": "@jupyter-widgets/controls",
          "model_name": "HTMLModel",
          "model_module_version": "1.5.0",
          "state": {
            "_dom_classes": [],
            "_model_module": "@jupyter-widgets/controls",
            "_model_module_version": "1.5.0",
            "_model_name": "HTMLModel",
            "_view_count": null,
            "_view_module": "@jupyter-widgets/controls",
            "_view_module_version": "1.5.0",
            "_view_name": "HTMLView",
            "description": "",
            "description_tooltip": null,
            "layout": "IPY_MODEL_4de22062285343e682d85c006b258722",
            "placeholder": "​",
            "style": "IPY_MODEL_fddcb4b5eaa84ed893b7018e5614bc1e",
            "value": ""
          }
        },
        "2709a109f78a441a910a1ecb1d9f6465": {
          "model_module": "@jupyter-widgets/controls",
          "model_name": "FloatProgressModel",
          "model_module_version": "1.5.0",
          "state": {
            "_dom_classes": [],
            "_model_module": "@jupyter-widgets/controls",
            "_model_module_version": "1.5.0",
            "_model_name": "FloatProgressModel",
            "_view_count": null,
            "_view_module": "@jupyter-widgets/controls",
            "_view_module_version": "1.5.0",
            "_view_name": "ProgressView",
            "bar_style": "success",
            "description": "",
            "description_tooltip": null,
            "layout": "IPY_MODEL_aa098caa9fdc4af4bf19577b4b9b4a0f",
            "max": 12238,
            "min": 0,
            "orientation": "horizontal",
            "style": "IPY_MODEL_308cea3b47ad43ee9270746ca8a2bc17",
            "value": 12238
          }
        },
        "cbc979a0566c4cbb990ba2d6c242d6a1": {
          "model_module": "@jupyter-widgets/controls",
          "model_name": "HTMLModel",
          "model_module_version": "1.5.0",
          "state": {
            "_dom_classes": [],
            "_model_module": "@jupyter-widgets/controls",
            "_model_module_version": "1.5.0",
            "_model_name": "HTMLModel",
            "_view_count": null,
            "_view_module": "@jupyter-widgets/controls",
            "_view_module_version": "1.5.0",
            "_view_name": "HTMLView",
            "description": "",
            "description_tooltip": null,
            "layout": "IPY_MODEL_4e576c674d184158957dddb5489d1e03",
            "placeholder": "​",
            "style": "IPY_MODEL_30f7c683471b415cb22413a4024ffe94",
            "value": " 12239/? [10:44&lt;00:00, 18.83it/s]"
          }
        },
        "f87010067c574ea187d136fb0d1b25e9": {
          "model_module": "@jupyter-widgets/base",
          "model_name": "LayoutModel",
          "model_module_version": "1.2.0",
          "state": {
            "_model_module": "@jupyter-widgets/base",
            "_model_module_version": "1.2.0",
            "_model_name": "LayoutModel",
            "_view_count": null,
            "_view_module": "@jupyter-widgets/base",
            "_view_module_version": "1.2.0",
            "_view_name": "LayoutView",
            "align_content": null,
            "align_items": null,
            "align_self": null,
            "border": null,
            "bottom": null,
            "display": null,
            "flex": null,
            "flex_flow": null,
            "grid_area": null,
            "grid_auto_columns": null,
            "grid_auto_flow": null,
            "grid_auto_rows": null,
            "grid_column": null,
            "grid_gap": null,
            "grid_row": null,
            "grid_template_areas": null,
            "grid_template_columns": null,
            "grid_template_rows": null,
            "height": null,
            "justify_content": null,
            "justify_items": null,
            "left": null,
            "margin": null,
            "max_height": null,
            "max_width": null,
            "min_height": null,
            "min_width": null,
            "object_fit": null,
            "object_position": null,
            "order": null,
            "overflow": null,
            "overflow_x": null,
            "overflow_y": null,
            "padding": null,
            "right": null,
            "top": null,
            "visibility": null,
            "width": null
          }
        },
        "4de22062285343e682d85c006b258722": {
          "model_module": "@jupyter-widgets/base",
          "model_name": "LayoutModel",
          "model_module_version": "1.2.0",
          "state": {
            "_model_module": "@jupyter-widgets/base",
            "_model_module_version": "1.2.0",
            "_model_name": "LayoutModel",
            "_view_count": null,
            "_view_module": "@jupyter-widgets/base",
            "_view_module_version": "1.2.0",
            "_view_name": "LayoutView",
            "align_content": null,
            "align_items": null,
            "align_self": null,
            "border": null,
            "bottom": null,
            "display": null,
            "flex": null,
            "flex_flow": null,
            "grid_area": null,
            "grid_auto_columns": null,
            "grid_auto_flow": null,
            "grid_auto_rows": null,
            "grid_column": null,
            "grid_gap": null,
            "grid_row": null,
            "grid_template_areas": null,
            "grid_template_columns": null,
            "grid_template_rows": null,
            "height": null,
            "justify_content": null,
            "justify_items": null,
            "left": null,
            "margin": null,
            "max_height": null,
            "max_width": null,
            "min_height": null,
            "min_width": null,
            "object_fit": null,
            "object_position": null,
            "order": null,
            "overflow": null,
            "overflow_x": null,
            "overflow_y": null,
            "padding": null,
            "right": null,
            "top": null,
            "visibility": null,
            "width": null
          }
        },
        "fddcb4b5eaa84ed893b7018e5614bc1e": {
          "model_module": "@jupyter-widgets/controls",
          "model_name": "DescriptionStyleModel",
          "model_module_version": "1.5.0",
          "state": {
            "_model_module": "@jupyter-widgets/controls",
            "_model_module_version": "1.5.0",
            "_model_name": "DescriptionStyleModel",
            "_view_count": null,
            "_view_module": "@jupyter-widgets/base",
            "_view_module_version": "1.2.0",
            "_view_name": "StyleView",
            "description_width": ""
          }
        },
        "aa098caa9fdc4af4bf19577b4b9b4a0f": {
          "model_module": "@jupyter-widgets/base",
          "model_name": "LayoutModel",
          "model_module_version": "1.2.0",
          "state": {
            "_model_module": "@jupyter-widgets/base",
            "_model_module_version": "1.2.0",
            "_model_name": "LayoutModel",
            "_view_count": null,
            "_view_module": "@jupyter-widgets/base",
            "_view_module_version": "1.2.0",
            "_view_name": "LayoutView",
            "align_content": null,
            "align_items": null,
            "align_self": null,
            "border": null,
            "bottom": null,
            "display": null,
            "flex": null,
            "flex_flow": null,
            "grid_area": null,
            "grid_auto_columns": null,
            "grid_auto_flow": null,
            "grid_auto_rows": null,
            "grid_column": null,
            "grid_gap": null,
            "grid_row": null,
            "grid_template_areas": null,
            "grid_template_columns": null,
            "grid_template_rows": null,
            "height": null,
            "justify_content": null,
            "justify_items": null,
            "left": null,
            "margin": null,
            "max_height": null,
            "max_width": null,
            "min_height": null,
            "min_width": null,
            "object_fit": null,
            "object_position": null,
            "order": null,
            "overflow": null,
            "overflow_x": null,
            "overflow_y": null,
            "padding": null,
            "right": null,
            "top": null,
            "visibility": null,
            "width": null
          }
        },
        "308cea3b47ad43ee9270746ca8a2bc17": {
          "model_module": "@jupyter-widgets/controls",
          "model_name": "ProgressStyleModel",
          "model_module_version": "1.5.0",
          "state": {
            "_model_module": "@jupyter-widgets/controls",
            "_model_module_version": "1.5.0",
            "_model_name": "ProgressStyleModel",
            "_view_count": null,
            "_view_module": "@jupyter-widgets/base",
            "_view_module_version": "1.2.0",
            "_view_name": "StyleView",
            "bar_color": null,
            "description_width": ""
          }
        },
        "4e576c674d184158957dddb5489d1e03": {
          "model_module": "@jupyter-widgets/base",
          "model_name": "LayoutModel",
          "model_module_version": "1.2.0",
          "state": {
            "_model_module": "@jupyter-widgets/base",
            "_model_module_version": "1.2.0",
            "_model_name": "LayoutModel",
            "_view_count": null,
            "_view_module": "@jupyter-widgets/base",
            "_view_module_version": "1.2.0",
            "_view_name": "LayoutView",
            "align_content": null,
            "align_items": null,
            "align_self": null,
            "border": null,
            "bottom": null,
            "display": null,
            "flex": null,
            "flex_flow": null,
            "grid_area": null,
            "grid_auto_columns": null,
            "grid_auto_flow": null,
            "grid_auto_rows": null,
            "grid_column": null,
            "grid_gap": null,
            "grid_row": null,
            "grid_template_areas": null,
            "grid_template_columns": null,
            "grid_template_rows": null,
            "height": null,
            "justify_content": null,
            "justify_items": null,
            "left": null,
            "margin": null,
            "max_height": null,
            "max_width": null,
            "min_height": null,
            "min_width": null,
            "object_fit": null,
            "object_position": null,
            "order": null,
            "overflow": null,
            "overflow_x": null,
            "overflow_y": null,
            "padding": null,
            "right": null,
            "top": null,
            "visibility": null,
            "width": null
          }
        },
        "30f7c683471b415cb22413a4024ffe94": {
          "model_module": "@jupyter-widgets/controls",
          "model_name": "DescriptionStyleModel",
          "model_module_version": "1.5.0",
          "state": {
            "_model_module": "@jupyter-widgets/controls",
            "_model_module_version": "1.5.0",
            "_model_name": "DescriptionStyleModel",
            "_view_count": null,
            "_view_module": "@jupyter-widgets/base",
            "_view_module_version": "1.2.0",
            "_view_name": "StyleView",
            "description_width": ""
          }
        },
        "21bd42c670b44b739a0c0e9aab63e5e2": {
          "model_module": "@jupyter-widgets/controls",
          "model_name": "HBoxModel",
          "model_module_version": "1.5.0",
          "state": {
            "_dom_classes": [],
            "_model_module": "@jupyter-widgets/controls",
            "_model_module_version": "1.5.0",
            "_model_name": "HBoxModel",
            "_view_count": null,
            "_view_module": "@jupyter-widgets/controls",
            "_view_module_version": "1.5.0",
            "_view_name": "HBoxView",
            "box_style": "",
            "children": [
              "IPY_MODEL_9ce549b6fe7a4b058c64d0b2690bfe88",
              "IPY_MODEL_9b8ecc9362d14521853b0a2f137c6cb7",
              "IPY_MODEL_420666f5f82b487cb4073fb07a2e7839"
            ],
            "layout": "IPY_MODEL_c5bfe7ebd27c49aa9688cba268ff5fe5"
          }
        },
        "9ce549b6fe7a4b058c64d0b2690bfe88": {
          "model_module": "@jupyter-widgets/controls",
          "model_name": "HTMLModel",
          "model_module_version": "1.5.0",
          "state": {
            "_dom_classes": [],
            "_model_module": "@jupyter-widgets/controls",
            "_model_module_version": "1.5.0",
            "_model_name": "HTMLModel",
            "_view_count": null,
            "_view_module": "@jupyter-widgets/controls",
            "_view_module_version": "1.5.0",
            "_view_name": "HTMLView",
            "description": "",
            "description_tooltip": null,
            "layout": "IPY_MODEL_2f8a375beacf4234a15ac72b2fd02c36",
            "placeholder": "​",
            "style": "IPY_MODEL_33d411fc53504eb4931f1d9887bcc399",
            "value": ""
          }
        },
        "9b8ecc9362d14521853b0a2f137c6cb7": {
          "model_module": "@jupyter-widgets/controls",
          "model_name": "FloatProgressModel",
          "model_module_version": "1.5.0",
          "state": {
            "_dom_classes": [],
            "_model_module": "@jupyter-widgets/controls",
            "_model_module_version": "1.5.0",
            "_model_name": "FloatProgressModel",
            "_view_count": null,
            "_view_module": "@jupyter-widgets/controls",
            "_view_module_version": "1.5.0",
            "_view_name": "ProgressView",
            "bar_style": "success",
            "description": "",
            "description_tooltip": null,
            "layout": "IPY_MODEL_1a240aeebc504e8d82827063f18b6689",
            "max": 12238,
            "min": 0,
            "orientation": "horizontal",
            "style": "IPY_MODEL_3238c6eeb01740f5ba7c58a6ed4b7723",
            "value": 12238
          }
        },
        "420666f5f82b487cb4073fb07a2e7839": {
          "model_module": "@jupyter-widgets/controls",
          "model_name": "HTMLModel",
          "model_module_version": "1.5.0",
          "state": {
            "_dom_classes": [],
            "_model_module": "@jupyter-widgets/controls",
            "_model_module_version": "1.5.0",
            "_model_name": "HTMLModel",
            "_view_count": null,
            "_view_module": "@jupyter-widgets/controls",
            "_view_module_version": "1.5.0",
            "_view_name": "HTMLView",
            "description": "",
            "description_tooltip": null,
            "layout": "IPY_MODEL_64a28aff7db94353b1b4dd8b7296dc72",
            "placeholder": "​",
            "style": "IPY_MODEL_e4917652a0184f5a98fd64f42818234d",
            "value": " 12239/? [10:45&lt;00:00, 21.66it/s]"
          }
        },
        "c5bfe7ebd27c49aa9688cba268ff5fe5": {
          "model_module": "@jupyter-widgets/base",
          "model_name": "LayoutModel",
          "model_module_version": "1.2.0",
          "state": {
            "_model_module": "@jupyter-widgets/base",
            "_model_module_version": "1.2.0",
            "_model_name": "LayoutModel",
            "_view_count": null,
            "_view_module": "@jupyter-widgets/base",
            "_view_module_version": "1.2.0",
            "_view_name": "LayoutView",
            "align_content": null,
            "align_items": null,
            "align_self": null,
            "border": null,
            "bottom": null,
            "display": null,
            "flex": null,
            "flex_flow": null,
            "grid_area": null,
            "grid_auto_columns": null,
            "grid_auto_flow": null,
            "grid_auto_rows": null,
            "grid_column": null,
            "grid_gap": null,
            "grid_row": null,
            "grid_template_areas": null,
            "grid_template_columns": null,
            "grid_template_rows": null,
            "height": null,
            "justify_content": null,
            "justify_items": null,
            "left": null,
            "margin": null,
            "max_height": null,
            "max_width": null,
            "min_height": null,
            "min_width": null,
            "object_fit": null,
            "object_position": null,
            "order": null,
            "overflow": null,
            "overflow_x": null,
            "overflow_y": null,
            "padding": null,
            "right": null,
            "top": null,
            "visibility": null,
            "width": null
          }
        },
        "2f8a375beacf4234a15ac72b2fd02c36": {
          "model_module": "@jupyter-widgets/base",
          "model_name": "LayoutModel",
          "model_module_version": "1.2.0",
          "state": {
            "_model_module": "@jupyter-widgets/base",
            "_model_module_version": "1.2.0",
            "_model_name": "LayoutModel",
            "_view_count": null,
            "_view_module": "@jupyter-widgets/base",
            "_view_module_version": "1.2.0",
            "_view_name": "LayoutView",
            "align_content": null,
            "align_items": null,
            "align_self": null,
            "border": null,
            "bottom": null,
            "display": null,
            "flex": null,
            "flex_flow": null,
            "grid_area": null,
            "grid_auto_columns": null,
            "grid_auto_flow": null,
            "grid_auto_rows": null,
            "grid_column": null,
            "grid_gap": null,
            "grid_row": null,
            "grid_template_areas": null,
            "grid_template_columns": null,
            "grid_template_rows": null,
            "height": null,
            "justify_content": null,
            "justify_items": null,
            "left": null,
            "margin": null,
            "max_height": null,
            "max_width": null,
            "min_height": null,
            "min_width": null,
            "object_fit": null,
            "object_position": null,
            "order": null,
            "overflow": null,
            "overflow_x": null,
            "overflow_y": null,
            "padding": null,
            "right": null,
            "top": null,
            "visibility": null,
            "width": null
          }
        },
        "33d411fc53504eb4931f1d9887bcc399": {
          "model_module": "@jupyter-widgets/controls",
          "model_name": "DescriptionStyleModel",
          "model_module_version": "1.5.0",
          "state": {
            "_model_module": "@jupyter-widgets/controls",
            "_model_module_version": "1.5.0",
            "_model_name": "DescriptionStyleModel",
            "_view_count": null,
            "_view_module": "@jupyter-widgets/base",
            "_view_module_version": "1.2.0",
            "_view_name": "StyleView",
            "description_width": ""
          }
        },
        "1a240aeebc504e8d82827063f18b6689": {
          "model_module": "@jupyter-widgets/base",
          "model_name": "LayoutModel",
          "model_module_version": "1.2.0",
          "state": {
            "_model_module": "@jupyter-widgets/base",
            "_model_module_version": "1.2.0",
            "_model_name": "LayoutModel",
            "_view_count": null,
            "_view_module": "@jupyter-widgets/base",
            "_view_module_version": "1.2.0",
            "_view_name": "LayoutView",
            "align_content": null,
            "align_items": null,
            "align_self": null,
            "border": null,
            "bottom": null,
            "display": null,
            "flex": null,
            "flex_flow": null,
            "grid_area": null,
            "grid_auto_columns": null,
            "grid_auto_flow": null,
            "grid_auto_rows": null,
            "grid_column": null,
            "grid_gap": null,
            "grid_row": null,
            "grid_template_areas": null,
            "grid_template_columns": null,
            "grid_template_rows": null,
            "height": null,
            "justify_content": null,
            "justify_items": null,
            "left": null,
            "margin": null,
            "max_height": null,
            "max_width": null,
            "min_height": null,
            "min_width": null,
            "object_fit": null,
            "object_position": null,
            "order": null,
            "overflow": null,
            "overflow_x": null,
            "overflow_y": null,
            "padding": null,
            "right": null,
            "top": null,
            "visibility": null,
            "width": null
          }
        },
        "3238c6eeb01740f5ba7c58a6ed4b7723": {
          "model_module": "@jupyter-widgets/controls",
          "model_name": "ProgressStyleModel",
          "model_module_version": "1.5.0",
          "state": {
            "_model_module": "@jupyter-widgets/controls",
            "_model_module_version": "1.5.0",
            "_model_name": "ProgressStyleModel",
            "_view_count": null,
            "_view_module": "@jupyter-widgets/base",
            "_view_module_version": "1.2.0",
            "_view_name": "StyleView",
            "bar_color": null,
            "description_width": ""
          }
        },
        "64a28aff7db94353b1b4dd8b7296dc72": {
          "model_module": "@jupyter-widgets/base",
          "model_name": "LayoutModel",
          "model_module_version": "1.2.0",
          "state": {
            "_model_module": "@jupyter-widgets/base",
            "_model_module_version": "1.2.0",
            "_model_name": "LayoutModel",
            "_view_count": null,
            "_view_module": "@jupyter-widgets/base",
            "_view_module_version": "1.2.0",
            "_view_name": "LayoutView",
            "align_content": null,
            "align_items": null,
            "align_self": null,
            "border": null,
            "bottom": null,
            "display": null,
            "flex": null,
            "flex_flow": null,
            "grid_area": null,
            "grid_auto_columns": null,
            "grid_auto_flow": null,
            "grid_auto_rows": null,
            "grid_column": null,
            "grid_gap": null,
            "grid_row": null,
            "grid_template_areas": null,
            "grid_template_columns": null,
            "grid_template_rows": null,
            "height": null,
            "justify_content": null,
            "justify_items": null,
            "left": null,
            "margin": null,
            "max_height": null,
            "max_width": null,
            "min_height": null,
            "min_width": null,
            "object_fit": null,
            "object_position": null,
            "order": null,
            "overflow": null,
            "overflow_x": null,
            "overflow_y": null,
            "padding": null,
            "right": null,
            "top": null,
            "visibility": null,
            "width": null
          }
        },
        "e4917652a0184f5a98fd64f42818234d": {
          "model_module": "@jupyter-widgets/controls",
          "model_name": "DescriptionStyleModel",
          "model_module_version": "1.5.0",
          "state": {
            "_model_module": "@jupyter-widgets/controls",
            "_model_module_version": "1.5.0",
            "_model_name": "DescriptionStyleModel",
            "_view_count": null,
            "_view_module": "@jupyter-widgets/base",
            "_view_module_version": "1.2.0",
            "_view_name": "StyleView",
            "description_width": ""
          }
        }
      }
    }
  },
  "nbformat": 4,
  "nbformat_minor": 0
}